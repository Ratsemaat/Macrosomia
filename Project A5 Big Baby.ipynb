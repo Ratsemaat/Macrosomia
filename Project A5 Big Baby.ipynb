{
 "cells": [
  {
   "cell_type": "markdown",
   "metadata": {},
   "source": [
    "Siia hakkab ilmuma projekt."
   ]
  },
  {
   "cell_type": "code",
   "execution_count": 1,
   "metadata": {},
   "outputs": [],
   "source": [
    "import pandas as pd"
   ]
  },
  {
   "cell_type": "code",
   "execution_count": 2,
   "metadata": {},
   "outputs": [
    {
     "data": {
      "text/plain": [
       "A                                 int64\n",
       "idcode                            int64\n",
       "bmi                              object\n",
       "gdm                               int64\n",
       "gdm_jm                            int64\n",
       "vanus_algul                       int64\n",
       "kmiyle25                          int64\n",
       "mitmes_syn                        int64\n",
       "gdm_varem                       float64\n",
       "suur_laps_varem                   int64\n",
       "fasting_glycose                 float64\n",
       "gestage_gtt1                    float64\n",
       "gestage_gtt_ndalates            float64\n",
       "gestage_gtt2                    float64\n",
       "gestage_gtt2_ndalates           float64\n",
       "synnitus                         object\n",
       "synnitus_ras_kestus_paevades      int64\n",
       "ga_week                           int64\n",
       "sugu                              int64\n",
       "synnikaal                         int64\n",
       "makrosoomia                       int64\n",
       "kaal_enne                       float64\n",
       "pikkus                          float64\n",
       "gestage                           int64\n",
       "maxtotalkaal                    float64\n",
       "kaaluiive                       float64\n",
       "kaaluive_alla20                 float64\n",
       "gestagekuni20                   float64\n",
       "datekuni20                       object\n",
       "kaal_kuni20                     float64\n",
       "gestagekuni24                   float64\n",
       "datekuni24                       object\n",
       "kaal_kuni24                     float64\n",
       "iive2024                        float64\n",
       "kaaluiivekuni24                 float64\n",
       "gestagekuni28                   float64\n",
       "datekuni28                       object\n",
       "kaalkuni28                      float64\n",
       "iive2428                        float64\n",
       "iive2028                        float64\n",
       "kaaluiivekuni28                 float64\n",
       "gestagekuni34                   float64\n",
       "datekuni34                       object\n",
       "kaalkuni34                      float64\n",
       "iive2834                        float64\n",
       "iive2434                        float64\n",
       "iive2034                        float64\n",
       "kaaluiivekuni34                 float64\n",
       "gestage_viimane                 float64\n",
       "dateviimane                      object\n",
       "kaal_viimane_enne synnitust     float64\n",
       "kaaluiivekuniviimasekaaluni     float64\n",
       "iive_alg_kuni_hiljemkui34       float64\n",
       "iive_20hiljemkui34              float64\n",
       "iive_24_hiljemkui34             float64\n",
       "iive_28_hiljemkui34             float64\n",
       "iive_34_kuni_hiljemkui34        float64\n",
       "dtype: object"
      ]
     },
     "execution_count": 2,
     "metadata": {},
     "output_type": "execute_result"
    }
   ],
   "source": [
    "df = pd.read_csv(\"Pregnancy_Data.csv\")\n",
    "df.dtypes"
   ]
  }
 ],
 "metadata": {
  "kernelspec": {
   "display_name": "Python 3",
   "language": "python",
   "name": "python3"
  },
  "language_info": {
   "codemirror_mode": {
    "name": "ipython",
    "version": 3
   },
   "file_extension": ".py",
   "mimetype": "text/x-python",
   "name": "python",
   "nbconvert_exporter": "python",
   "pygments_lexer": "ipython3",
   "version": "3.8.3"
  }
 },
 "nbformat": 4,
 "nbformat_minor": 4
}
