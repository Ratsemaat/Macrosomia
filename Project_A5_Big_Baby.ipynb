{
  "nbformat": 4,
  "nbformat_minor": 0,
  "metadata": {
    "colab": {
      "name": "Project A5 Big Baby.ipynb",
      "provenance": [],
      "collapsed_sections": [],
      "toc_visible": true
    },
    "kernelspec": {
      "display_name": "Python 3",
      "language": "python",
      "name": "python3"
    },
    "language_info": {
      "codemirror_mode": {
        "name": "ipython",
        "version": 3
      },
      "file_extension": ".py",
      "mimetype": "text/x-python",
      "name": "python",
      "nbconvert_exporter": "python",
      "pygments_lexer": "ipython3",
      "version": "3.8.3"
    }
  },
  "cells": [
    {
      "cell_type": "markdown",
      "metadata": {
        "id": "-mvuI8GdFXHY"
      },
      "source": [
        "# Cleaning data"
      ]
    },
    {
      "cell_type": "code",
      "metadata": {
        "id": "Y6G3mPjDQrYe"
      },
      "source": [
        "import pandas as pd"
      ],
      "execution_count": 1,
      "outputs": []
    },
    {
      "cell_type": "code",
      "metadata": {
        "colab": {
          "base_uri": "https://localhost:8080/"
        },
        "id": "yVlSR8ZWQrYe",
        "outputId": "389b7f42-a6a5-4e15-882b-ea0fa203d50d"
      },
      "source": [
        "!wget https://github.com/Ratsemaat/Macrosomia/raw/main/Pregnancy_Data.csv -O Pregnancy_Data.csv\n",
        "df = pd.read_csv(\"Pregnancy_Data.csv\")\n",
        "df['bmi'] = df['bmi'].str.replace(',','.')\n",
        "df=df.astype({'bmi': 'float64'})\n"
      ],
      "execution_count": 2,
      "outputs": [
        {
          "output_type": "stream",
          "text": [
            "--2020-12-13 16:48:14--  https://github.com/Ratsemaat/Macrosomia/raw/main/Pregnancy_Data.csv\n",
            "Resolving github.com (github.com)... 192.30.255.112\n",
            "Connecting to github.com (github.com)|192.30.255.112|:443... connected.\n",
            "HTTP request sent, awaiting response... 302 Found\n",
            "Location: https://raw.githubusercontent.com/Ratsemaat/Macrosomia/main/Pregnancy_Data.csv [following]\n",
            "--2020-12-13 16:48:14--  https://raw.githubusercontent.com/Ratsemaat/Macrosomia/main/Pregnancy_Data.csv\n",
            "Resolving raw.githubusercontent.com (raw.githubusercontent.com)... 151.101.0.133, 151.101.64.133, 151.101.128.133, ...\n",
            "Connecting to raw.githubusercontent.com (raw.githubusercontent.com)|151.101.0.133|:443... connected.\n",
            "HTTP request sent, awaiting response... 200 OK\n",
            "Length: 436014 (426K) [text/plain]\n",
            "Saving to: ‘Pregnancy_Data.csv’\n",
            "\n",
            "Pregnancy_Data.csv  100%[===================>] 425.79K  --.-KB/s    in 0.03s   \n",
            "\n",
            "2020-12-13 16:48:14 (15.3 MB/s) - ‘Pregnancy_Data.csv’ saved [436014/436014]\n",
            "\n"
          ],
          "name": "stdout"
        }
      ]
    },
    {
      "cell_type": "markdown",
      "metadata": {
        "id": "_I3-9_tgQrYf"
      },
      "source": [
        "Dropping irrelevant data"
      ]
    },
    {
      "cell_type": "code",
      "metadata": {
        "id": "cg-qLVI6QrYf"
      },
      "source": [
        "df = df.drop(\"A\", axis=1) # some kind of ID\n",
        "df = df.drop(\"ga_week\", axis=1) \n",
        "df = df.drop(\"idcode\", axis=1) # We do not need to identify mothers.\n",
        "df = df.drop(\"kmiyle25\", axis=1) # There already exists BMI column. So a boolean that tells whether it is higher than 25 is useless.\n",
        "\n",
        "#Since the timing of glucose tolerance test does not matter.\n",
        "df = df.drop(\"fasting_glycose\", axis=1)\n",
        "df = df.drop(\"gestage_gtt_ndalates\", axis=1)\n",
        "df = df.drop(\"gestage_gtt1\", axis=1)\n",
        "df = df.drop(\"gestage_gtt2_ndalates\", axis=1)\n",
        "df = df.drop(\"gestage_gtt2\", axis=1)\n",
        "\n",
        "#We already have difference of days, so we do not need to record any dates.\n",
        "df = df.drop(\"synnitus\", axis=1)\n",
        "df = df.drop(\"datekuni20\", axis=1)\n",
        "df = df.drop(\"datekuni24\", axis=1)\n",
        "df = df.drop(\"datekuni28\", axis=1)\n",
        "df = df.drop(\"datekuni34\", axis=1)\n",
        "df = df.drop(\"dateviimane\", axis=1)\n",
        "df = df.drop(\"pikkus\", axis=1) # Height is taken into account in BMI column.\n",
        "\n",
        "#The difference in weights is duplicated a lot\n",
        "df = df.drop(\"iive2034\", axis=1)\n",
        "df = df.drop(\"iive2434\", axis=1)\n",
        "df = df.drop(\"kaaluiivekuni34\", axis=1)\n",
        "df = df.drop(\"kaaluiivekuni28\", axis=1)\n",
        "df = df.drop(\"iive2028\", axis=1)\n",
        "df = df.drop(\"kaaluiivekuni24\", axis=1)\n",
        "df = df.drop(\"iive2024\", axis=1)\n",
        "df = df.drop(\"iive2428\", axis=1)\n",
        "df = df.drop(\"iive2834\", axis=1)\n",
        "df = df.drop(\"iive_34_kuni_hiljemkui34\", axis=1)\n",
        "df = df.drop(\"iive_28_hiljemkui34\", axis=1)\n",
        "df = df.drop(\"kaaluive_alla20\", axis=1)\n",
        "df = df.drop(\"iive_24_hiljemkui34\", axis=1)\n",
        "df = df.drop(\"iive_20hiljemkui34\", axis=1)\n",
        "df = df.drop(\"iive_alg_kuni_hiljemkui34\", axis=1)\n",
        "df = df.drop(\"kaaluiivekuniviimasekaaluni\", axis=1)\n",
        "\n",
        "# `synnitus_ras_kestus_paevades` and `gestage` are equal (except for 1 row)\n",
        "df = df.drop(\"gestage\", axis=1)\n"
      ],
      "execution_count": 3,
      "outputs": []
    },
    {
      "cell_type": "markdown",
      "metadata": {
        "id": "Gbqqm6kwGCl-"
      },
      "source": [
        "# Data preprocessing"
      ]
    },
    {
      "cell_type": "markdown",
      "metadata": {
        "id": "UpETy1VyQrYg"
      },
      "source": [
        "Renaming and translating.\n"
      ]
    },
    {
      "cell_type": "code",
      "metadata": {
        "id": "37r1zNwKQrYg"
      },
      "source": [
        "df =df.rename(columns={\"synnitus_ras_kestus_paevades\": \"gestage_total\",\n",
        "                   \"vanus_algul\": \"age\",\n",
        "                   \"mitmes_syn\":\"childbirth_n\",\n",
        "                   \"gdm_varem\":\"prev_gdm\",\n",
        "                   \"suur_laps_varem\":\"prev_macrosomia\",\n",
        "                   \"sugu\":\"sex\",\n",
        "                   \"synnikaal\":\"child_weight\",\n",
        "                   \"makrosoomia\":\"macrosomia\",\n",
        "                   \"kaal_enne\":\"weight_start\",\n",
        "                   \"maxtotalkaal\":\"max_weight\",\n",
        "                   \"kaaluiive\":\"max_weight_delta\",\n",
        "                   \"gestagekuni20\": \"gestage_days_20\",\n",
        "                   \"gestagekuni24\": \"gestage_days_24\",\n",
        "                   \"gestagekuni28\": \"gestage_days_28\",\n",
        "                   \"gestagekuni34\": \"gestage_days_34\",\n",
        "                   \"gestage_viimane\":\"gestage_days_last\",\n",
        "                   \"kaal_kuni20\": \"weight_20\",\n",
        "                   \"kaal_kuni24\": \"weight_24\",\n",
        "                   \"kaalkuni28\": \"weight_28\",\n",
        "                   \"kaalkuni34\": \"weight_34\",\n",
        "                   \"kaal_viimane_enne synnitust\": \"weight_last\",\n",
        "                   })\n"
      ],
      "execution_count": 4,
      "outputs": []
    },
    {
      "cell_type": "code",
      "metadata": {
        "colab": {
          "base_uri": "https://localhost:8080/"
        },
        "id": "CVyk0loc06nM",
        "outputId": "404901fb-b4b5-44fd-e059-864eedfae155"
      },
      "source": [
        "print(\"There are \" + str(df.shape[1]) + \" basic attributes in total.\")"
      ],
      "execution_count": 5,
      "outputs": [
        {
          "output_type": "stream",
          "text": [
            "There are 24 basic attributes in total.\n"
          ],
          "name": "stdout"
        }
      ]
    },
    {
      "cell_type": "code",
      "metadata": {
        "colab": {
          "base_uri": "https://localhost:8080/"
        },
        "id": "yYYpLansM92X",
        "outputId": "914adb29-760e-4b51-eb02-99aca0694f20"
      },
      "source": [
        "df['macrosomia'].value_counts()"
      ],
      "execution_count": 6,
      "outputs": [
        {
          "output_type": "execute_result",
          "data": {
            "text/plain": [
              "0    1487\n",
              "1     285\n",
              "Name: macrosomia, dtype: int64"
            ]
          },
          "metadata": {
            "tags": []
          },
          "execution_count": 6
        }
      ]
    },
    {
      "cell_type": "code",
      "metadata": {
        "id": "pouYJHh2QrYh",
        "scrolled": false,
        "colab": {
          "base_uri": "https://localhost:8080/",
          "height": 1000
        },
        "outputId": "778a27da-4389-4aab-83a1-c3c3e142f483"
      },
      "source": [
        "for field in df.columns:\n",
        "    if df[field].dtype=='int64' or df[field].dtype=='float64':\n",
        "        df.hist(column=field)"
      ],
      "execution_count": 7,
      "outputs": [
        {
          "output_type": "stream",
          "text": [
            "/usr/local/lib/python3.6/dist-packages/pandas/plotting/_matplotlib/tools.py:185: RuntimeWarning: More than 20 figures have been opened. Figures created through the pyplot interface (`matplotlib.pyplot.figure`) are retained until explicitly closed and may consume too much memory. (To control this warning, see the rcParam `figure.max_open_warning`).\n",
            "  fig = plt.figure(**fig_kw)\n"
          ],
          "name": "stderr"
        },
        {
          "output_type": "display_data",
          "data": {
            "image/png": "[encoded data removed]",
            "text/plain": [
              "<Figure size 432x288 with 1 Axes>"
            ]
          },
          "metadata": {
            "tags": [],
            "needs_background": "light"
          }
        },
        {
          "output_type": "display_data",
          "data": {
            "image/png": "[encoded data removed]",
            "text/plain": [
              "<Figure size 432x288 with 1 Axes>"
            ]
          },
          "metadata": {
            "tags": [],
            "needs_background": "light"
          }
        },
        {
          "output_type": "display_data",
          "data": {
            "image/png": "[encoded data removed]",
            "text/plain": [
              "<Figure size 432x288 with 1 Axes>"
            ]
          },
          "metadata": {
            "tags": [],
            "needs_background": "light"
          }
        },
        {
          "output_type": "display_data",
          "data": {
            "image/png": "[encoded data removed]",
            "text/plain": [
              "<Figure size 432x288 with 1 Axes>"
            ]
          },
          "metadata": {
            "tags": [],
            "needs_background": "light"
          }
        },
        {
          "output_type": "display_data",
          "data": {
            "image/png": "[encoded data removed]",
            "text/plain": [
              "<Figure size 432x288 with 1 Axes>"
            ]
          },
          "metadata": {
            "tags": [],
            "needs_background": "light"
          }
        },
        {
          "output_type": "display_data",
          "data": {
            "image/png": "[encoded data removed]",
            "text/plain": [
              "<Figure size 432x288 with 1 Axes>"
            ]
          },
          "metadata": {
            "tags": [],
            "needs_background": "light"
          }
        },
        {
          "output_type": "display_data",
          "data": {
            "image/png": "[encoded data removed]",
            "text/plain": [
              "<Figure size 432x288 with 1 Axes>"
            ]
          },
          "metadata": {
            "tags": [],
            "needs_background": "light"
          }
        },
        {
          "output_type": "display_data",
          "data": {
            "image/png": "[encoded data removed]",
            "text/plain": [
              "<Figure size 432x288 with 1 Axes>"
            ]
          },
          "metadata": {
            "tags": [],
            "needs_background": "light"
          }
        },
        {
          "output_type": "display_data",
          "data": {
            "image/png": "[encoded data removed]",
            "text/plain": [
              "<Figure size 432x288 with 1 Axes>"
            ]
          },
          "metadata": {
            "tags": [],
            "needs_background": "light"
          }
        },
        {
          "output_type": "display_data",
          "data": {
            "image/png": "[encoded data removed]",
            "text/plain": [
              "<Figure size 432x288 with 1 Axes>"
            ]
          },
          "metadata": {
            "tags": [],
            "needs_background": "light"
          }
        },
        {
          "output_type": "display_data",
          "data": {
            "image/png": "[encoded data removed]",
            "text/plain": [
              "<Figure size 432x288 with 1 Axes>"
            ]
          },
          "metadata": {
            "tags": [],
            "needs_background": "light"
          }
        },
        {
          "output_type": "display_data",
          "data": {
            "image/png": "[encoded data removed]",
            "text/plain": [
              "<Figure size 432x288 with 1 Axes>"
            ]
          },
          "metadata": {
            "tags": [],
            "needs_background": "light"
          }
        },
        {
          "output_type": "display_data",
          "data": {
            "image/png": "[encoded data removed]",
            "text/plain": [
              "<Figure size 432x288 with 1 Axes>"
            ]
          },
          "metadata": {
            "tags": [],
            "needs_background": "light"
          }
        },
        {
          "output_type": "display_data",
          "data": {
            "image/png": "[encoded data removed]",
            "text/plain": [
              "<Figure size 432x288 with 1 Axes>"
            ]
          },
          "metadata": {
            "tags": [],
            "needs_background": "light"
          }
        },
        {
          "output_type": "display_data",
          "data": {
            "image/png": "[encoded data removed]",
            "text/plain": [
              "<Figure size 432x288 with 1 Axes>"
            ]
          },
          "metadata": {
            "tags": [],
            "needs_background": "light"
          }
        },
        {
          "output_type": "display_data",
          "data": {
            "image/png": "[encoded data removed]",
            "text/plain": [
              "<Figure size 432x288 with 1 Axes>"
            ]
          },
          "metadata": {
            "tags": [],
            "needs_background": "light"
          }
        },
        {
          "output_type": "display_data",
          "data": {
            "image/png": "[encoded data removed]",
            "text/plain": [
              "<Figure size 432x288 with 1 Axes>"
            ]
          },
          "metadata": {
            "tags": [],
            "needs_background": "light"
          }
        },
        {
          "output_type": "display_data",
          "data": {
            "image/png": "[encoded data removed]",
            "text/plain": [
              "<Figure size 432x288 with 1 Axes>"
            ]
          },
          "metadata": {
            "tags": [],
            "needs_background": "light"
          }
        },
        {
          "output_type": "display_data",
          "data": {
            "image/png": "[encoded data removed]",
            "text/plain": [
              "<Figure size 432x288 with 1 Axes>"
            ]
          },
          "metadata": {
            "tags": [],
            "needs_background": "light"
          }
        },
        {
          "output_type": "display_data",
          "data": {
            "image/png": "[encoded data removed]",
            "text/plain": [
              "<Figure size 432x288 with 1 Axes>"
            ]
          },
          "metadata": {
            "tags": [],
            "needs_background": "light"
          }
        },
        {
          "output_type": "display_data",
          "data": {
            "image/png": "[encoded data removed]",
            "text/plain": [
              "<Figure size 432x288 with 1 Axes>"
            ]
          },
          "metadata": {
            "tags": [],
            "needs_background": "light"
          }
        },
        {
          "output_type": "display_data",
          "data": {
            "image/png": "[encoded data removed]",
            "text/plain": [
              "<Figure size 432x288 with 1 Axes>"
            ]
          },
          "metadata": {
            "tags": [],
            "needs_background": "light"
          }
        },
        {
          "output_type": "display_data",
          "data": {
            "image/png": "[encoded data removed]",
            "text/plain": [
              "<Figure size 432x288 with 1 Axes>"
            ]
          },
          "metadata": {
            "tags": [],
            "needs_background": "light"
          }
        },
        {
          "output_type": "display_data",
          "data": {
            "image/png": "[encoded data removed]",
            "text/plain": [
              "<Figure size 432x288 with 1 Axes>"
            ]
          },
          "metadata": {
            "tags": [],
            "needs_background": "light"
          }
        }
      ]
    },
    {
      "cell_type": "code",
      "metadata": {
        "colab": {
          "base_uri": "https://localhost:8080/",
          "height": 424
        },
        "id": "LE-aasBFb_6D",
        "outputId": "0b4e2263-e51b-49eb-c023-4aa09eb47547"
      },
      "source": [
        "df[df.weight_20.isna() | df.weight_24.isna() | df.weight_28.isna() | df.weight_34.isna()]\n",
        "# Quite a lot missing weight values"
      ],
      "execution_count": 8,
      "outputs": [
        {
          "output_type": "execute_result",
          "data": {
            "text/html": [
              "<div>\n",
              "<style scoped>\n",
              "    .dataframe tbody tr th:only-of-type {\n",
              "        vertical-align: middle;\n",
              "    }\n",
              "\n",
              "    .dataframe tbody tr th {\n",
              "        vertical-align: top;\n",
              "    }\n",
              "\n",
              "    .dataframe thead th {\n",
              "        text-align: right;\n",
              "    }\n",
              "</style>\n",
              "<table border=\"1\" class=\"dataframe\">\n",
              "  <thead>\n",
              "    <tr style=\"text-align: right;\">\n",
              "      <th></th>\n",
              "      <th>bmi</th>\n",
              "      <th>gdm</th>\n",
              "      <th>gdm_jm</th>\n",
              "      <th>age</th>\n",
              "      <th>childbirth_n</th>\n",
              "      <th>prev_gdm</th>\n",
              "      <th>prev_macrosomia</th>\n",
              "      <th>gestage_total</th>\n",
              "      <th>sex</th>\n",
              "      <th>child_weight</th>\n",
              "      <th>macrosomia</th>\n",
              "      <th>weight_start</th>\n",
              "      <th>max_weight</th>\n",
              "      <th>max_weight_delta</th>\n",
              "      <th>gestage_days_20</th>\n",
              "      <th>weight_20</th>\n",
              "      <th>gestage_days_24</th>\n",
              "      <th>weight_24</th>\n",
              "      <th>gestage_days_28</th>\n",
              "      <th>weight_28</th>\n",
              "      <th>gestage_days_34</th>\n",
              "      <th>weight_34</th>\n",
              "      <th>gestage_days_last</th>\n",
              "      <th>weight_last</th>\n",
              "    </tr>\n",
              "  </thead>\n",
              "  <tbody>\n",
              "    <tr>\n",
              "      <th>4</th>\n",
              "      <td>20.861120</td>\n",
              "      <td>0</td>\n",
              "      <td>0</td>\n",
              "      <td>35</td>\n",
              "      <td>2</td>\n",
              "      <td>0.0</td>\n",
              "      <td>0</td>\n",
              "      <td>248</td>\n",
              "      <td>2</td>\n",
              "      <td>2356</td>\n",
              "      <td>0</td>\n",
              "      <td>61.0</td>\n",
              "      <td>67.0</td>\n",
              "      <td>6.0</td>\n",
              "      <td>115.0</td>\n",
              "      <td>62.5</td>\n",
              "      <td>157.0</td>\n",
              "      <td>67.0</td>\n",
              "      <td>NaN</td>\n",
              "      <td>NaN</td>\n",
              "      <td>NaN</td>\n",
              "      <td>NaN</td>\n",
              "      <td>157.0</td>\n",
              "      <td>67.0</td>\n",
              "    </tr>\n",
              "    <tr>\n",
              "      <th>7</th>\n",
              "      <td>23.388687</td>\n",
              "      <td>0</td>\n",
              "      <td>0</td>\n",
              "      <td>35</td>\n",
              "      <td>3</td>\n",
              "      <td>0.0</td>\n",
              "      <td>0</td>\n",
              "      <td>271</td>\n",
              "      <td>2</td>\n",
              "      <td>3100</td>\n",
              "      <td>0</td>\n",
              "      <td>70.0</td>\n",
              "      <td>81.0</td>\n",
              "      <td>11.0</td>\n",
              "      <td>137.0</td>\n",
              "      <td>71.5</td>\n",
              "      <td>NaN</td>\n",
              "      <td>NaN</td>\n",
              "      <td>179.0</td>\n",
              "      <td>73.5</td>\n",
              "      <td>214.0</td>\n",
              "      <td>78.1</td>\n",
              "      <td>259.0</td>\n",
              "      <td>81.0</td>\n",
              "    </tr>\n",
              "    <tr>\n",
              "      <th>8</th>\n",
              "      <td>22.720438</td>\n",
              "      <td>0</td>\n",
              "      <td>2</td>\n",
              "      <td>38</td>\n",
              "      <td>3</td>\n",
              "      <td>0.0</td>\n",
              "      <td>1</td>\n",
              "      <td>274</td>\n",
              "      <td>2</td>\n",
              "      <td>3906</td>\n",
              "      <td>1</td>\n",
              "      <td>68.0</td>\n",
              "      <td>88.0</td>\n",
              "      <td>20.0</td>\n",
              "      <td>134.0</td>\n",
              "      <td>76.3</td>\n",
              "      <td>NaN</td>\n",
              "      <td>NaN</td>\n",
              "      <td>169.0</td>\n",
              "      <td>78.6</td>\n",
              "      <td>237.0</td>\n",
              "      <td>85.5</td>\n",
              "      <td>258.0</td>\n",
              "      <td>88.0</td>\n",
              "    </tr>\n",
              "    <tr>\n",
              "      <th>12</th>\n",
              "      <td>22.343516</td>\n",
              "      <td>0</td>\n",
              "      <td>1</td>\n",
              "      <td>30</td>\n",
              "      <td>2</td>\n",
              "      <td>0.0</td>\n",
              "      <td>0</td>\n",
              "      <td>288</td>\n",
              "      <td>2</td>\n",
              "      <td>3700</td>\n",
              "      <td>0</td>\n",
              "      <td>70.0</td>\n",
              "      <td>83.6</td>\n",
              "      <td>13.6</td>\n",
              "      <td>138.0</td>\n",
              "      <td>74.9</td>\n",
              "      <td>166.0</td>\n",
              "      <td>76.2</td>\n",
              "      <td>NaN</td>\n",
              "      <td>NaN</td>\n",
              "      <td>229.0</td>\n",
              "      <td>80.3</td>\n",
              "      <td>285.0</td>\n",
              "      <td>83.6</td>\n",
              "    </tr>\n",
              "    <tr>\n",
              "      <th>18</th>\n",
              "      <td>17.928215</td>\n",
              "      <td>0</td>\n",
              "      <td>2</td>\n",
              "      <td>22</td>\n",
              "      <td>2</td>\n",
              "      <td>0.0</td>\n",
              "      <td>0</td>\n",
              "      <td>273</td>\n",
              "      <td>1</td>\n",
              "      <td>3500</td>\n",
              "      <td>0</td>\n",
              "      <td>50.0</td>\n",
              "      <td>63.0</td>\n",
              "      <td>13.0</td>\n",
              "      <td>139.0</td>\n",
              "      <td>52.6</td>\n",
              "      <td>NaN</td>\n",
              "      <td>NaN</td>\n",
              "      <td>172.0</td>\n",
              "      <td>56.8</td>\n",
              "      <td>237.0</td>\n",
              "      <td>60.7</td>\n",
              "      <td>256.0</td>\n",
              "      <td>63.0</td>\n",
              "    </tr>\n",
              "    <tr>\n",
              "      <th>...</th>\n",
              "      <td>...</td>\n",
              "      <td>...</td>\n",
              "      <td>...</td>\n",
              "      <td>...</td>\n",
              "      <td>...</td>\n",
              "      <td>...</td>\n",
              "      <td>...</td>\n",
              "      <td>...</td>\n",
              "      <td>...</td>\n",
              "      <td>...</td>\n",
              "      <td>...</td>\n",
              "      <td>...</td>\n",
              "      <td>...</td>\n",
              "      <td>...</td>\n",
              "      <td>...</td>\n",
              "      <td>...</td>\n",
              "      <td>...</td>\n",
              "      <td>...</td>\n",
              "      <td>...</td>\n",
              "      <td>...</td>\n",
              "      <td>...</td>\n",
              "      <td>...</td>\n",
              "      <td>...</td>\n",
              "      <td>...</td>\n",
              "    </tr>\n",
              "    <tr>\n",
              "      <th>1748</th>\n",
              "      <td>30.043262</td>\n",
              "      <td>0</td>\n",
              "      <td>1</td>\n",
              "      <td>33</td>\n",
              "      <td>2</td>\n",
              "      <td>0.0</td>\n",
              "      <td>0</td>\n",
              "      <td>292</td>\n",
              "      <td>2</td>\n",
              "      <td>3694</td>\n",
              "      <td>0</td>\n",
              "      <td>75.0</td>\n",
              "      <td>85.1</td>\n",
              "      <td>10.1</td>\n",
              "      <td>NaN</td>\n",
              "      <td>NaN</td>\n",
              "      <td>NaN</td>\n",
              "      <td>NaN</td>\n",
              "      <td>NaN</td>\n",
              "      <td>NaN</td>\n",
              "      <td>NaN</td>\n",
              "      <td>NaN</td>\n",
              "      <td>289.0</td>\n",
              "      <td>84.7</td>\n",
              "    </tr>\n",
              "    <tr>\n",
              "      <th>1751</th>\n",
              "      <td>20.796730</td>\n",
              "      <td>0</td>\n",
              "      <td>1</td>\n",
              "      <td>30</td>\n",
              "      <td>1</td>\n",
              "      <td>NaN</td>\n",
              "      <td>0</td>\n",
              "      <td>282</td>\n",
              "      <td>1</td>\n",
              "      <td>3460</td>\n",
              "      <td>0</td>\n",
              "      <td>58.0</td>\n",
              "      <td>71.5</td>\n",
              "      <td>13.5</td>\n",
              "      <td>NaN</td>\n",
              "      <td>NaN</td>\n",
              "      <td>NaN</td>\n",
              "      <td>NaN</td>\n",
              "      <td>NaN</td>\n",
              "      <td>NaN</td>\n",
              "      <td>NaN</td>\n",
              "      <td>NaN</td>\n",
              "      <td>277.0</td>\n",
              "      <td>71.5</td>\n",
              "    </tr>\n",
              "    <tr>\n",
              "      <th>1755</th>\n",
              "      <td>22.321429</td>\n",
              "      <td>0</td>\n",
              "      <td>2</td>\n",
              "      <td>30</td>\n",
              "      <td>2</td>\n",
              "      <td>0.0</td>\n",
              "      <td>0</td>\n",
              "      <td>276</td>\n",
              "      <td>1</td>\n",
              "      <td>4048</td>\n",
              "      <td>1</td>\n",
              "      <td>63.0</td>\n",
              "      <td>82.1</td>\n",
              "      <td>19.1</td>\n",
              "      <td>139.0</td>\n",
              "      <td>68.2</td>\n",
              "      <td>NaN</td>\n",
              "      <td>NaN</td>\n",
              "      <td>173.0</td>\n",
              "      <td>73.4</td>\n",
              "      <td>227.0</td>\n",
              "      <td>78.6</td>\n",
              "      <td>270.0</td>\n",
              "      <td>82.1</td>\n",
              "    </tr>\n",
              "    <tr>\n",
              "      <th>1763</th>\n",
              "      <td>23.938990</td>\n",
              "      <td>0</td>\n",
              "      <td>0</td>\n",
              "      <td>19</td>\n",
              "      <td>1</td>\n",
              "      <td>NaN</td>\n",
              "      <td>0</td>\n",
              "      <td>284</td>\n",
              "      <td>1</td>\n",
              "      <td>4000</td>\n",
              "      <td>0</td>\n",
              "      <td>70.0</td>\n",
              "      <td>82.6</td>\n",
              "      <td>12.6</td>\n",
              "      <td>NaN</td>\n",
              "      <td>NaN</td>\n",
              "      <td>164.0</td>\n",
              "      <td>74.0</td>\n",
              "      <td>195.0</td>\n",
              "      <td>76.5</td>\n",
              "      <td>231.0</td>\n",
              "      <td>78.1</td>\n",
              "      <td>283.0</td>\n",
              "      <td>82.4</td>\n",
              "    </tr>\n",
              "    <tr>\n",
              "      <th>1769</th>\n",
              "      <td>21.230572</td>\n",
              "      <td>0</td>\n",
              "      <td>2</td>\n",
              "      <td>24</td>\n",
              "      <td>2</td>\n",
              "      <td>0.0</td>\n",
              "      <td>0</td>\n",
              "      <td>279</td>\n",
              "      <td>1</td>\n",
              "      <td>3750</td>\n",
              "      <td>0</td>\n",
              "      <td>53.0</td>\n",
              "      <td>66.0</td>\n",
              "      <td>13.0</td>\n",
              "      <td>131.0</td>\n",
              "      <td>60.0</td>\n",
              "      <td>NaN</td>\n",
              "      <td>NaN</td>\n",
              "      <td>173.0</td>\n",
              "      <td>63.0</td>\n",
              "      <td>229.0</td>\n",
              "      <td>64.6</td>\n",
              "      <td>271.0</td>\n",
              "      <td>66.0</td>\n",
              "    </tr>\n",
              "  </tbody>\n",
              "</table>\n",
              "<p>504 rows × 24 columns</p>\n",
              "</div>"
            ],
            "text/plain": [
              "            bmi  gdm  gdm_jm  ...  weight_34  gestage_days_last  weight_last\n",
              "4     20.861120    0       0  ...        NaN              157.0         67.0\n",
              "7     23.388687    0       0  ...       78.1              259.0         81.0\n",
              "8     22.720438    0       2  ...       85.5              258.0         88.0\n",
              "12    22.343516    0       1  ...       80.3              285.0         83.6\n",
              "18    17.928215    0       2  ...       60.7              256.0         63.0\n",
              "...         ...  ...     ...  ...        ...                ...          ...\n",
              "1748  30.043262    0       1  ...        NaN              289.0         84.7\n",
              "1751  20.796730    0       1  ...        NaN              277.0         71.5\n",
              "1755  22.321429    0       2  ...       78.6              270.0         82.1\n",
              "1763  23.938990    0       0  ...       78.1              283.0         82.4\n",
              "1769  21.230572    0       2  ...       64.6              271.0         66.0\n",
              "\n",
              "[504 rows x 24 columns]"
            ]
          },
          "metadata": {
            "tags": []
          },
          "execution_count": 8
        }
      ]
    },
    {
      "cell_type": "code",
      "metadata": {
        "colab": {
          "base_uri": "https://localhost:8080/",
          "height": 364
        },
        "id": "ciX5Ksc2fHB2",
        "outputId": "c59da2c1-a389-44ac-88c3-eb6ad7f14c5f"
      },
      "source": [
        "df[df.weight_20.isna() & df.weight_24.isna() & df.weight_28.isna() & df.weight_34.isna()]"
      ],
      "execution_count": 9,
      "outputs": [
        {
          "output_type": "execute_result",
          "data": {
            "text/html": [
              "<div>\n",
              "<style scoped>\n",
              "    .dataframe tbody tr th:only-of-type {\n",
              "        vertical-align: middle;\n",
              "    }\n",
              "\n",
              "    .dataframe tbody tr th {\n",
              "        vertical-align: top;\n",
              "    }\n",
              "\n",
              "    .dataframe thead th {\n",
              "        text-align: right;\n",
              "    }\n",
              "</style>\n",
              "<table border=\"1\" class=\"dataframe\">\n",
              "  <thead>\n",
              "    <tr style=\"text-align: right;\">\n",
              "      <th></th>\n",
              "      <th>bmi</th>\n",
              "      <th>gdm</th>\n",
              "      <th>gdm_jm</th>\n",
              "      <th>age</th>\n",
              "      <th>childbirth_n</th>\n",
              "      <th>prev_gdm</th>\n",
              "      <th>prev_macrosomia</th>\n",
              "      <th>gestage_total</th>\n",
              "      <th>sex</th>\n",
              "      <th>child_weight</th>\n",
              "      <th>macrosomia</th>\n",
              "      <th>weight_start</th>\n",
              "      <th>max_weight</th>\n",
              "      <th>max_weight_delta</th>\n",
              "      <th>gestage_days_20</th>\n",
              "      <th>weight_20</th>\n",
              "      <th>gestage_days_24</th>\n",
              "      <th>weight_24</th>\n",
              "      <th>gestage_days_28</th>\n",
              "      <th>weight_28</th>\n",
              "      <th>gestage_days_34</th>\n",
              "      <th>weight_34</th>\n",
              "      <th>gestage_days_last</th>\n",
              "      <th>weight_last</th>\n",
              "    </tr>\n",
              "  </thead>\n",
              "  <tbody>\n",
              "    <tr>\n",
              "      <th>288</th>\n",
              "      <td>24.167162</td>\n",
              "      <td>0</td>\n",
              "      <td>0</td>\n",
              "      <td>39</td>\n",
              "      <td>3</td>\n",
              "      <td>0.0</td>\n",
              "      <td>0</td>\n",
              "      <td>270</td>\n",
              "      <td>2</td>\n",
              "      <td>2952</td>\n",
              "      <td>0</td>\n",
              "      <td>65.0</td>\n",
              "      <td>73.0</td>\n",
              "      <td>8.0</td>\n",
              "      <td>NaN</td>\n",
              "      <td>NaN</td>\n",
              "      <td>NaN</td>\n",
              "      <td>NaN</td>\n",
              "      <td>NaN</td>\n",
              "      <td>NaN</td>\n",
              "      <td>NaN</td>\n",
              "      <td>NaN</td>\n",
              "      <td>269.0</td>\n",
              "      <td>73.0</td>\n",
              "    </tr>\n",
              "    <tr>\n",
              "      <th>520</th>\n",
              "      <td>19.051974</td>\n",
              "      <td>0</td>\n",
              "      <td>1</td>\n",
              "      <td>29</td>\n",
              "      <td>2</td>\n",
              "      <td>0.0</td>\n",
              "      <td>0</td>\n",
              "      <td>285</td>\n",
              "      <td>1</td>\n",
              "      <td>3720</td>\n",
              "      <td>0</td>\n",
              "      <td>50.0</td>\n",
              "      <td>0.0</td>\n",
              "      <td>NaN</td>\n",
              "      <td>NaN</td>\n",
              "      <td>NaN</td>\n",
              "      <td>NaN</td>\n",
              "      <td>NaN</td>\n",
              "      <td>NaN</td>\n",
              "      <td>NaN</td>\n",
              "      <td>NaN</td>\n",
              "      <td>NaN</td>\n",
              "      <td>NaN</td>\n",
              "      <td>NaN</td>\n",
              "    </tr>\n",
              "    <tr>\n",
              "      <th>534</th>\n",
              "      <td>16.731112</td>\n",
              "      <td>0</td>\n",
              "      <td>0</td>\n",
              "      <td>15</td>\n",
              "      <td>1</td>\n",
              "      <td>0.0</td>\n",
              "      <td>0</td>\n",
              "      <td>265</td>\n",
              "      <td>2</td>\n",
              "      <td>3350</td>\n",
              "      <td>0</td>\n",
              "      <td>45.0</td>\n",
              "      <td>63.4</td>\n",
              "      <td>18.4</td>\n",
              "      <td>NaN</td>\n",
              "      <td>NaN</td>\n",
              "      <td>NaN</td>\n",
              "      <td>NaN</td>\n",
              "      <td>NaN</td>\n",
              "      <td>NaN</td>\n",
              "      <td>NaN</td>\n",
              "      <td>NaN</td>\n",
              "      <td>255.0</td>\n",
              "      <td>63.4</td>\n",
              "    </tr>\n",
              "    <tr>\n",
              "      <th>757</th>\n",
              "      <td>19.467401</td>\n",
              "      <td>1</td>\n",
              "      <td>3</td>\n",
              "      <td>30</td>\n",
              "      <td>2</td>\n",
              "      <td>0.0</td>\n",
              "      <td>0</td>\n",
              "      <td>285</td>\n",
              "      <td>1</td>\n",
              "      <td>3770</td>\n",
              "      <td>0</td>\n",
              "      <td>53.0</td>\n",
              "      <td>70.3</td>\n",
              "      <td>17.3</td>\n",
              "      <td>NaN</td>\n",
              "      <td>NaN</td>\n",
              "      <td>NaN</td>\n",
              "      <td>NaN</td>\n",
              "      <td>NaN</td>\n",
              "      <td>NaN</td>\n",
              "      <td>NaN</td>\n",
              "      <td>NaN</td>\n",
              "      <td>282.0</td>\n",
              "      <td>70.3</td>\n",
              "    </tr>\n",
              "    <tr>\n",
              "      <th>1058</th>\n",
              "      <td>20.385675</td>\n",
              "      <td>0</td>\n",
              "      <td>0</td>\n",
              "      <td>31</td>\n",
              "      <td>1</td>\n",
              "      <td>NaN</td>\n",
              "      <td>0</td>\n",
              "      <td>283</td>\n",
              "      <td>1</td>\n",
              "      <td>3890</td>\n",
              "      <td>0</td>\n",
              "      <td>55.5</td>\n",
              "      <td>74.2</td>\n",
              "      <td>18.7</td>\n",
              "      <td>NaN</td>\n",
              "      <td>NaN</td>\n",
              "      <td>NaN</td>\n",
              "      <td>NaN</td>\n",
              "      <td>NaN</td>\n",
              "      <td>NaN</td>\n",
              "      <td>NaN</td>\n",
              "      <td>NaN</td>\n",
              "      <td>281.0</td>\n",
              "      <td>74.2</td>\n",
              "    </tr>\n",
              "    <tr>\n",
              "      <th>1674</th>\n",
              "      <td>34.063609</td>\n",
              "      <td>0</td>\n",
              "      <td>1</td>\n",
              "      <td>25</td>\n",
              "      <td>2</td>\n",
              "      <td>0.0</td>\n",
              "      <td>0</td>\n",
              "      <td>275</td>\n",
              "      <td>1</td>\n",
              "      <td>3425</td>\n",
              "      <td>0</td>\n",
              "      <td>95.0</td>\n",
              "      <td>103.0</td>\n",
              "      <td>8.0</td>\n",
              "      <td>NaN</td>\n",
              "      <td>NaN</td>\n",
              "      <td>NaN</td>\n",
              "      <td>NaN</td>\n",
              "      <td>NaN</td>\n",
              "      <td>NaN</td>\n",
              "      <td>NaN</td>\n",
              "      <td>NaN</td>\n",
              "      <td>274.0</td>\n",
              "      <td>103.0</td>\n",
              "    </tr>\n",
              "    <tr>\n",
              "      <th>1733</th>\n",
              "      <td>30.859607</td>\n",
              "      <td>0</td>\n",
              "      <td>3</td>\n",
              "      <td>28</td>\n",
              "      <td>1</td>\n",
              "      <td>0.0</td>\n",
              "      <td>0</td>\n",
              "      <td>275</td>\n",
              "      <td>1</td>\n",
              "      <td>3740</td>\n",
              "      <td>0</td>\n",
              "      <td>83.0</td>\n",
              "      <td>91.3</td>\n",
              "      <td>8.3</td>\n",
              "      <td>NaN</td>\n",
              "      <td>NaN</td>\n",
              "      <td>NaN</td>\n",
              "      <td>NaN</td>\n",
              "      <td>NaN</td>\n",
              "      <td>NaN</td>\n",
              "      <td>NaN</td>\n",
              "      <td>NaN</td>\n",
              "      <td>268.0</td>\n",
              "      <td>91.3</td>\n",
              "    </tr>\n",
              "    <tr>\n",
              "      <th>1735</th>\n",
              "      <td>18.099375</td>\n",
              "      <td>0</td>\n",
              "      <td>0</td>\n",
              "      <td>33</td>\n",
              "      <td>1</td>\n",
              "      <td>NaN</td>\n",
              "      <td>0</td>\n",
              "      <td>280</td>\n",
              "      <td>2</td>\n",
              "      <td>3355</td>\n",
              "      <td>0</td>\n",
              "      <td>47.5</td>\n",
              "      <td>61.0</td>\n",
              "      <td>13.5</td>\n",
              "      <td>NaN</td>\n",
              "      <td>NaN</td>\n",
              "      <td>NaN</td>\n",
              "      <td>NaN</td>\n",
              "      <td>NaN</td>\n",
              "      <td>NaN</td>\n",
              "      <td>NaN</td>\n",
              "      <td>NaN</td>\n",
              "      <td>284.0</td>\n",
              "      <td>61.0</td>\n",
              "    </tr>\n",
              "    <tr>\n",
              "      <th>1748</th>\n",
              "      <td>30.043262</td>\n",
              "      <td>0</td>\n",
              "      <td>1</td>\n",
              "      <td>33</td>\n",
              "      <td>2</td>\n",
              "      <td>0.0</td>\n",
              "      <td>0</td>\n",
              "      <td>292</td>\n",
              "      <td>2</td>\n",
              "      <td>3694</td>\n",
              "      <td>0</td>\n",
              "      <td>75.0</td>\n",
              "      <td>85.1</td>\n",
              "      <td>10.1</td>\n",
              "      <td>NaN</td>\n",
              "      <td>NaN</td>\n",
              "      <td>NaN</td>\n",
              "      <td>NaN</td>\n",
              "      <td>NaN</td>\n",
              "      <td>NaN</td>\n",
              "      <td>NaN</td>\n",
              "      <td>NaN</td>\n",
              "      <td>289.0</td>\n",
              "      <td>84.7</td>\n",
              "    </tr>\n",
              "    <tr>\n",
              "      <th>1751</th>\n",
              "      <td>20.796730</td>\n",
              "      <td>0</td>\n",
              "      <td>1</td>\n",
              "      <td>30</td>\n",
              "      <td>1</td>\n",
              "      <td>NaN</td>\n",
              "      <td>0</td>\n",
              "      <td>282</td>\n",
              "      <td>1</td>\n",
              "      <td>3460</td>\n",
              "      <td>0</td>\n",
              "      <td>58.0</td>\n",
              "      <td>71.5</td>\n",
              "      <td>13.5</td>\n",
              "      <td>NaN</td>\n",
              "      <td>NaN</td>\n",
              "      <td>NaN</td>\n",
              "      <td>NaN</td>\n",
              "      <td>NaN</td>\n",
              "      <td>NaN</td>\n",
              "      <td>NaN</td>\n",
              "      <td>NaN</td>\n",
              "      <td>277.0</td>\n",
              "      <td>71.5</td>\n",
              "    </tr>\n",
              "  </tbody>\n",
              "</table>\n",
              "</div>"
            ],
            "text/plain": [
              "            bmi  gdm  gdm_jm  ...  weight_34  gestage_days_last  weight_last\n",
              "288   24.167162    0       0  ...        NaN              269.0         73.0\n",
              "520   19.051974    0       1  ...        NaN                NaN          NaN\n",
              "534   16.731112    0       0  ...        NaN              255.0         63.4\n",
              "757   19.467401    1       3  ...        NaN              282.0         70.3\n",
              "1058  20.385675    0       0  ...        NaN              281.0         74.2\n",
              "1674  34.063609    0       1  ...        NaN              274.0        103.0\n",
              "1733  30.859607    0       3  ...        NaN              268.0         91.3\n",
              "1735  18.099375    0       0  ...        NaN              284.0         61.0\n",
              "1748  30.043262    0       1  ...        NaN              289.0         84.7\n",
              "1751  20.796730    0       1  ...        NaN              277.0         71.5\n",
              "\n",
              "[10 rows x 24 columns]"
            ]
          },
          "metadata": {
            "tags": []
          },
          "execution_count": 9
        }
      ]
    },
    {
      "cell_type": "code",
      "metadata": {
        "id": "MVUmwpnilHjZ"
      },
      "source": [
        ""
      ],
      "execution_count": 9,
      "outputs": []
    },
    {
      "cell_type": "code",
      "metadata": {
        "colab": {
          "base_uri": "https://localhost:8080/",
          "height": 282
        },
        "id": "86N7zEkacF_K",
        "outputId": "339a29e0-8713-4f73-9ecc-7af2822d638f"
      },
      "source": [
        "df[df.macrosomia == 1].child_weight.hist(bins=20)"
      ],
      "execution_count": 10,
      "outputs": [
        {
          "output_type": "execute_result",
          "data": {
            "text/plain": [
              "<matplotlib.axes._subplots.AxesSubplot at 0x7ffab13884e0>"
            ]
          },
          "metadata": {
            "tags": []
          },
          "execution_count": 10
        },
        {
          "output_type": "display_data",
          "data": {
            "image/png": "[encoded data removed]",
            "text/plain": [
              "<Figure size 432x288 with 1 Axes>"
            ]
          },
          "metadata": {
            "tags": [],
            "needs_background": "light"
          }
        }
      ]
    },
    {
      "cell_type": "code",
      "metadata": {
        "colab": {
          "base_uri": "https://localhost:8080/",
          "height": 282
        },
        "id": "3NqAjkywcoYN",
        "outputId": "92456170-341a-41ca-dac7-6f6c3d7ca935"
      },
      "source": [
        "df[df.macrosomia == 0].child_weight.hist(bins=20)"
      ],
      "execution_count": 11,
      "outputs": [
        {
          "output_type": "execute_result",
          "data": {
            "text/plain": [
              "<matplotlib.axes._subplots.AxesSubplot at 0x7ffaaefca0b8>"
            ]
          },
          "metadata": {
            "tags": []
          },
          "execution_count": 11
        },
        {
          "output_type": "display_data",
          "data": {
            "image/png": "[encoded data removed]",
            "text/plain": [
              "<Figure size 432x288 with 1 Axes>"
            ]
          },
          "metadata": {
            "tags": [],
            "needs_background": "light"
          }
        }
      ]
    },
    {
      "cell_type": "code",
      "metadata": {
        "colab": {
          "base_uri": "https://localhost:8080/",
          "height": 424
        },
        "id": "QAPXudUqO5O0",
        "outputId": "c9f53d32-2a70-491e-eb2e-06efe8fc52bd"
      },
      "source": [
        "df"
      ],
      "execution_count": 12,
      "outputs": [
        {
          "output_type": "execute_result",
          "data": {
            "text/html": [
              "<div>\n",
              "<style scoped>\n",
              "    .dataframe tbody tr th:only-of-type {\n",
              "        vertical-align: middle;\n",
              "    }\n",
              "\n",
              "    .dataframe tbody tr th {\n",
              "        vertical-align: top;\n",
              "    }\n",
              "\n",
              "    .dataframe thead th {\n",
              "        text-align: right;\n",
              "    }\n",
              "</style>\n",
              "<table border=\"1\" class=\"dataframe\">\n",
              "  <thead>\n",
              "    <tr style=\"text-align: right;\">\n",
              "      <th></th>\n",
              "      <th>bmi</th>\n",
              "      <th>gdm</th>\n",
              "      <th>gdm_jm</th>\n",
              "      <th>age</th>\n",
              "      <th>childbirth_n</th>\n",
              "      <th>prev_gdm</th>\n",
              "      <th>prev_macrosomia</th>\n",
              "      <th>gestage_total</th>\n",
              "      <th>sex</th>\n",
              "      <th>child_weight</th>\n",
              "      <th>macrosomia</th>\n",
              "      <th>weight_start</th>\n",
              "      <th>max_weight</th>\n",
              "      <th>max_weight_delta</th>\n",
              "      <th>gestage_days_20</th>\n",
              "      <th>weight_20</th>\n",
              "      <th>gestage_days_24</th>\n",
              "      <th>weight_24</th>\n",
              "      <th>gestage_days_28</th>\n",
              "      <th>weight_28</th>\n",
              "      <th>gestage_days_34</th>\n",
              "      <th>weight_34</th>\n",
              "      <th>gestage_days_last</th>\n",
              "      <th>weight_last</th>\n",
              "    </tr>\n",
              "  </thead>\n",
              "  <tbody>\n",
              "    <tr>\n",
              "      <th>0</th>\n",
              "      <td>29.000595</td>\n",
              "      <td>0</td>\n",
              "      <td>1</td>\n",
              "      <td>42</td>\n",
              "      <td>1</td>\n",
              "      <td>NaN</td>\n",
              "      <td>0</td>\n",
              "      <td>284</td>\n",
              "      <td>2</td>\n",
              "      <td>4180</td>\n",
              "      <td>1</td>\n",
              "      <td>70.0</td>\n",
              "      <td>79.0</td>\n",
              "      <td>9.0</td>\n",
              "      <td>116.0</td>\n",
              "      <td>73.0</td>\n",
              "      <td>159.0</td>\n",
              "      <td>75.5</td>\n",
              "      <td>180.0</td>\n",
              "      <td>76.4</td>\n",
              "      <td>234.0</td>\n",
              "      <td>77.7</td>\n",
              "      <td>279.0</td>\n",
              "      <td>78.0</td>\n",
              "    </tr>\n",
              "    <tr>\n",
              "      <th>1</th>\n",
              "      <td>27.885187</td>\n",
              "      <td>0</td>\n",
              "      <td>2</td>\n",
              "      <td>40</td>\n",
              "      <td>2</td>\n",
              "      <td>0.0</td>\n",
              "      <td>0</td>\n",
              "      <td>273</td>\n",
              "      <td>1</td>\n",
              "      <td>3764</td>\n",
              "      <td>0</td>\n",
              "      <td>75.0</td>\n",
              "      <td>97.5</td>\n",
              "      <td>22.5</td>\n",
              "      <td>128.0</td>\n",
              "      <td>85.2</td>\n",
              "      <td>156.0</td>\n",
              "      <td>88.3</td>\n",
              "      <td>183.0</td>\n",
              "      <td>90.0</td>\n",
              "      <td>232.0</td>\n",
              "      <td>94.4</td>\n",
              "      <td>267.0</td>\n",
              "      <td>97.5</td>\n",
              "    </tr>\n",
              "    <tr>\n",
              "      <th>2</th>\n",
              "      <td>18.253110</td>\n",
              "      <td>1</td>\n",
              "      <td>3</td>\n",
              "      <td>36</td>\n",
              "      <td>3</td>\n",
              "      <td>0.0</td>\n",
              "      <td>0</td>\n",
              "      <td>275</td>\n",
              "      <td>2</td>\n",
              "      <td>3640</td>\n",
              "      <td>0</td>\n",
              "      <td>54.0</td>\n",
              "      <td>69.5</td>\n",
              "      <td>15.5</td>\n",
              "      <td>110.0</td>\n",
              "      <td>57.5</td>\n",
              "      <td>152.0</td>\n",
              "      <td>63.0</td>\n",
              "      <td>181.0</td>\n",
              "      <td>64.5</td>\n",
              "      <td>215.0</td>\n",
              "      <td>67.5</td>\n",
              "      <td>263.0</td>\n",
              "      <td>69.5</td>\n",
              "    </tr>\n",
              "    <tr>\n",
              "      <th>3</th>\n",
              "      <td>23.289616</td>\n",
              "      <td>0</td>\n",
              "      <td>1</td>\n",
              "      <td>35</td>\n",
              "      <td>2</td>\n",
              "      <td>0.0</td>\n",
              "      <td>0</td>\n",
              "      <td>274</td>\n",
              "      <td>1</td>\n",
              "      <td>2926</td>\n",
              "      <td>0</td>\n",
              "      <td>68.9</td>\n",
              "      <td>79.8</td>\n",
              "      <td>10.9</td>\n",
              "      <td>118.0</td>\n",
              "      <td>71.1</td>\n",
              "      <td>142.0</td>\n",
              "      <td>73.2</td>\n",
              "      <td>177.0</td>\n",
              "      <td>75.2</td>\n",
              "      <td>226.0</td>\n",
              "      <td>76.5</td>\n",
              "      <td>262.0</td>\n",
              "      <td>79.8</td>\n",
              "    </tr>\n",
              "    <tr>\n",
              "      <th>4</th>\n",
              "      <td>20.861120</td>\n",
              "      <td>0</td>\n",
              "      <td>0</td>\n",
              "      <td>35</td>\n",
              "      <td>2</td>\n",
              "      <td>0.0</td>\n",
              "      <td>0</td>\n",
              "      <td>248</td>\n",
              "      <td>2</td>\n",
              "      <td>2356</td>\n",
              "      <td>0</td>\n",
              "      <td>61.0</td>\n",
              "      <td>67.0</td>\n",
              "      <td>6.0</td>\n",
              "      <td>115.0</td>\n",
              "      <td>62.5</td>\n",
              "      <td>157.0</td>\n",
              "      <td>67.0</td>\n",
              "      <td>NaN</td>\n",
              "      <td>NaN</td>\n",
              "      <td>NaN</td>\n",
              "      <td>NaN</td>\n",
              "      <td>157.0</td>\n",
              "      <td>67.0</td>\n",
              "    </tr>\n",
              "    <tr>\n",
              "      <th>...</th>\n",
              "      <td>...</td>\n",
              "      <td>...</td>\n",
              "      <td>...</td>\n",
              "      <td>...</td>\n",
              "      <td>...</td>\n",
              "      <td>...</td>\n",
              "      <td>...</td>\n",
              "      <td>...</td>\n",
              "      <td>...</td>\n",
              "      <td>...</td>\n",
              "      <td>...</td>\n",
              "      <td>...</td>\n",
              "      <td>...</td>\n",
              "      <td>...</td>\n",
              "      <td>...</td>\n",
              "      <td>...</td>\n",
              "      <td>...</td>\n",
              "      <td>...</td>\n",
              "      <td>...</td>\n",
              "      <td>...</td>\n",
              "      <td>...</td>\n",
              "      <td>...</td>\n",
              "      <td>...</td>\n",
              "      <td>...</td>\n",
              "    </tr>\n",
              "    <tr>\n",
              "      <th>1767</th>\n",
              "      <td>26.674874</td>\n",
              "      <td>0</td>\n",
              "      <td>2</td>\n",
              "      <td>24</td>\n",
              "      <td>1</td>\n",
              "      <td>NaN</td>\n",
              "      <td>0</td>\n",
              "      <td>288</td>\n",
              "      <td>2</td>\n",
              "      <td>3300</td>\n",
              "      <td>0</td>\n",
              "      <td>78.0</td>\n",
              "      <td>87.1</td>\n",
              "      <td>9.1</td>\n",
              "      <td>107.0</td>\n",
              "      <td>81.0</td>\n",
              "      <td>142.0</td>\n",
              "      <td>79.6</td>\n",
              "      <td>177.0</td>\n",
              "      <td>81.2</td>\n",
              "      <td>221.0</td>\n",
              "      <td>84.7</td>\n",
              "      <td>282.0</td>\n",
              "      <td>87.1</td>\n",
              "    </tr>\n",
              "    <tr>\n",
              "      <th>1768</th>\n",
              "      <td>27.434842</td>\n",
              "      <td>0</td>\n",
              "      <td>1</td>\n",
              "      <td>26</td>\n",
              "      <td>1</td>\n",
              "      <td>NaN</td>\n",
              "      <td>0</td>\n",
              "      <td>256</td>\n",
              "      <td>2</td>\n",
              "      <td>2635</td>\n",
              "      <td>0</td>\n",
              "      <td>72.0</td>\n",
              "      <td>89.1</td>\n",
              "      <td>17.1</td>\n",
              "      <td>114.0</td>\n",
              "      <td>77.2</td>\n",
              "      <td>142.0</td>\n",
              "      <td>78.8</td>\n",
              "      <td>191.0</td>\n",
              "      <td>84.2</td>\n",
              "      <td>232.0</td>\n",
              "      <td>88.4</td>\n",
              "      <td>247.0</td>\n",
              "      <td>89.1</td>\n",
              "    </tr>\n",
              "    <tr>\n",
              "      <th>1769</th>\n",
              "      <td>21.230572</td>\n",
              "      <td>0</td>\n",
              "      <td>2</td>\n",
              "      <td>24</td>\n",
              "      <td>2</td>\n",
              "      <td>0.0</td>\n",
              "      <td>0</td>\n",
              "      <td>279</td>\n",
              "      <td>1</td>\n",
              "      <td>3750</td>\n",
              "      <td>0</td>\n",
              "      <td>53.0</td>\n",
              "      <td>66.0</td>\n",
              "      <td>13.0</td>\n",
              "      <td>131.0</td>\n",
              "      <td>60.0</td>\n",
              "      <td>NaN</td>\n",
              "      <td>NaN</td>\n",
              "      <td>173.0</td>\n",
              "      <td>63.0</td>\n",
              "      <td>229.0</td>\n",
              "      <td>64.6</td>\n",
              "      <td>271.0</td>\n",
              "      <td>66.0</td>\n",
              "    </tr>\n",
              "    <tr>\n",
              "      <th>1770</th>\n",
              "      <td>21.083563</td>\n",
              "      <td>0</td>\n",
              "      <td>0</td>\n",
              "      <td>32</td>\n",
              "      <td>3</td>\n",
              "      <td>0.0</td>\n",
              "      <td>0</td>\n",
              "      <td>279</td>\n",
              "      <td>1</td>\n",
              "      <td>3475</td>\n",
              "      <td>0</td>\n",
              "      <td>57.4</td>\n",
              "      <td>76.9</td>\n",
              "      <td>19.5</td>\n",
              "      <td>122.0</td>\n",
              "      <td>63.0</td>\n",
              "      <td>143.0</td>\n",
              "      <td>63.6</td>\n",
              "      <td>172.0</td>\n",
              "      <td>66.5</td>\n",
              "      <td>227.0</td>\n",
              "      <td>71.9</td>\n",
              "      <td>271.0</td>\n",
              "      <td>76.9</td>\n",
              "    </tr>\n",
              "    <tr>\n",
              "      <th>1771</th>\n",
              "      <td>25.910684</td>\n",
              "      <td>0</td>\n",
              "      <td>2</td>\n",
              "      <td>20</td>\n",
              "      <td>1</td>\n",
              "      <td>NaN</td>\n",
              "      <td>0</td>\n",
              "      <td>290</td>\n",
              "      <td>1</td>\n",
              "      <td>4035</td>\n",
              "      <td>0</td>\n",
              "      <td>68.0</td>\n",
              "      <td>82.0</td>\n",
              "      <td>14.0</td>\n",
              "      <td>122.0</td>\n",
              "      <td>70.7</td>\n",
              "      <td>141.0</td>\n",
              "      <td>71.0</td>\n",
              "      <td>178.0</td>\n",
              "      <td>72.3</td>\n",
              "      <td>230.0</td>\n",
              "      <td>74.2</td>\n",
              "      <td>282.0</td>\n",
              "      <td>82.0</td>\n",
              "    </tr>\n",
              "  </tbody>\n",
              "</table>\n",
              "<p>1772 rows × 24 columns</p>\n",
              "</div>"
            ],
            "text/plain": [
              "            bmi  gdm  gdm_jm  ...  weight_34  gestage_days_last  weight_last\n",
              "0     29.000595    0       1  ...       77.7              279.0         78.0\n",
              "1     27.885187    0       2  ...       94.4              267.0         97.5\n",
              "2     18.253110    1       3  ...       67.5              263.0         69.5\n",
              "3     23.289616    0       1  ...       76.5              262.0         79.8\n",
              "4     20.861120    0       0  ...        NaN              157.0         67.0\n",
              "...         ...  ...     ...  ...        ...                ...          ...\n",
              "1767  26.674874    0       2  ...       84.7              282.0         87.1\n",
              "1768  27.434842    0       1  ...       88.4              247.0         89.1\n",
              "1769  21.230572    0       2  ...       64.6              271.0         66.0\n",
              "1770  21.083563    0       0  ...       71.9              271.0         76.9\n",
              "1771  25.910684    0       2  ...       74.2              282.0         82.0\n",
              "\n",
              "[1772 rows x 24 columns]"
            ]
          },
          "metadata": {
            "tags": []
          },
          "execution_count": 12
        }
      ]
    },
    {
      "cell_type": "code",
      "metadata": {
        "id": "E2o3jUU9lsJh"
      },
      "source": [
        "# Replace missing weights using interpolate\n",
        "\n",
        "df[['weight_start', 'weight_20', 'weight_24', 'weight_28', 'weight_34', 'weight_last']] = df[['weight_start', 'weight_20', 'weight_24', 'weight_28', 'weight_34', 'weight_last']].interpolate(axis=1)"
      ],
      "execution_count": 13,
      "outputs": []
    },
    {
      "cell_type": "code",
      "metadata": {
        "id": "LQBDxe9Iq1Mo"
      },
      "source": [
        "# Some feature engineering\n",
        "\n",
        "df['weight_20_gain'] = (df['weight_20'] - df['weight_start'])\n",
        "df['weight_24_gain'] = (df['weight_24'] - df['weight_20'])\n",
        "df['weight_28_gain'] = (df['weight_28'] - df['weight_24'])\n",
        "df['weight_34_gain'] = (df['weight_34'] - df['weight_28'])\n",
        "df['weight_last_gain'] = (df['weight_last'] - df['weight_34'])\n",
        "\n",
        "df['relative_max_weight_gain'] = (df['max_weight'] - df['weight_start'])/df['weight_start']\n",
        "df['relative_weight_20_gain'] = (df['weight_20'] - df['weight_start'])/df['weight_start']\n",
        "df['relative_weight_24_gain'] = (df['weight_24'] - df['weight_20'])/df['weight_20']\n",
        "df['relative_weight_28_gain'] = (df['weight_28'] - df['weight_24'])/df['weight_24']\n",
        "df['relative_weight_34_gain'] = (df['weight_34'] - df['weight_28'])/df['weight_28']\n",
        "df['relative_weight_last_gain'] = (df['weight_last'] - df['weight_34'])/df['weight_34']"
      ],
      "execution_count": 14,
      "outputs": []
    },
    {
      "cell_type": "code",
      "metadata": {
        "colab": {
          "base_uri": "https://localhost:8080/",
          "height": 282
        },
        "id": "xrv4cp6rrRLH",
        "outputId": "e24bbf5a-724d-4d93-f5ea-8a2dc29e9502"
      },
      "source": [
        "df['relative_max_weight_gain'].hist(bins=20)"
      ],
      "execution_count": 15,
      "outputs": [
        {
          "output_type": "execute_result",
          "data": {
            "text/plain": [
              "<matplotlib.axes._subplots.AxesSubplot at 0x7ffaaeebfac8>"
            ]
          },
          "metadata": {
            "tags": []
          },
          "execution_count": 15
        },
        {
          "output_type": "display_data",
          "data": {
            "image/png": "[encoded data removed]",
            "text/plain": [
              "<Figure size 432x288 with 1 Axes>"
            ]
          },
          "metadata": {
            "tags": [],
            "needs_background": "light"
          }
        }
      ]
    },
    {
      "cell_type": "code",
      "metadata": {
        "colab": {
          "base_uri": "https://localhost:8080/",
          "height": 282
        },
        "id": "HUUFd4avnw_r",
        "outputId": "6ae352fb-b7da-4c7e-a4eb-cd407b12eeb6"
      },
      "source": [
        "df['relative_weight_28_gain'].hist(bins=20)"
      ],
      "execution_count": 16,
      "outputs": [
        {
          "output_type": "execute_result",
          "data": {
            "text/plain": [
              "<matplotlib.axes._subplots.AxesSubplot at 0x7ffaaeed8a20>"
            ]
          },
          "metadata": {
            "tags": []
          },
          "execution_count": 16
        },
        {
          "output_type": "display_data",
          "data": {
            "image/png": "[encoded data removed]",
            "text/plain": [
              "<Figure size 432x288 with 1 Axes>"
            ]
          },
          "metadata": {
            "tags": [],
            "needs_background": "light"
          }
        }
      ]
    },
    {
      "cell_type": "code",
      "metadata": {
        "colab": {
          "base_uri": "https://localhost:8080/",
          "height": 285
        },
        "id": "xJQSAsCKn2cm",
        "outputId": "eefd4e7f-e3bb-43dd-b2a7-c03fe55712e3"
      },
      "source": [
        "df['relative_weight_34_gain'].hist(bins=20)"
      ],
      "execution_count": 17,
      "outputs": [
        {
          "output_type": "execute_result",
          "data": {
            "text/plain": [
              "<matplotlib.axes._subplots.AxesSubplot at 0x7ffaaeda0080>"
            ]
          },
          "metadata": {
            "tags": []
          },
          "execution_count": 17
        },
        {
          "output_type": "display_data",
          "data": {
            "image/png": "[encoded data removed]",
            "text/plain": [
              "<Figure size 432x288 with 1 Axes>"
            ]
          },
          "metadata": {
            "tags": [],
            "needs_background": "light"
          }
        }
      ]
    },
    {
      "cell_type": "markdown",
      "metadata": {
        "id": "tT4WdWI0VoU_"
      },
      "source": [
        "Meanings of different fields:\n",
        "\n",
        "- **bmi** - body mass index\n",
        "- **gdm** - whether the person had gestational diabetes\n",
        "- **gdm_jm** - 0 if the person had low risk of GDM and was not tested for GDM; 1 if the person had risk of GDM, but was not tested; 2 if the person was tested, but did not have GDM; 3 if the person was tested and had GDM\n",
        "- **age** - age of the person in years\n",
        "- **childbirth** - how many times the person has given birth before\n",
        "- **prev_gdm** - whether the person has had GDM before\n",
        "- **prev_macrosomia** - whether the person has had a child with macrosomia before\n",
        "- **gestage_total** - duration of pregnancy in days\n",
        "- **sex** - sex of the child\n",
        "- **child_weight** - weight of the child in grams\n",
        "- **macrosomia** - whether the child has macrosomia\n",
        "- **weight_start** - weight of the person in kg at the start of pregnancy\n",
        "- **max_weight** - the maximum weight of the person in kg during the pregnancy\n",
        "- **max_weight_delta** - *max_weight* - *weight_start* in kg\n",
        "- **relative_max_weight_gain** - $\\frac{max\\_weight - weight\\_start}{weight\\_start}$\n",
        "- **relative_weight_20_gain** $\\frac{weight\\_start - weight\\_20}{weight\\_20}$\n",
        "- **relative_weight_24_gain** $\\frac{weight\\_24 - weight\\_20}{weight\\_20}$\n",
        "- **relative_weight_28_gain** $\\frac{weight\\_28 - weight\\_24}{weight\\_24}$\n",
        "- **relative_weight_34_gain** $\\frac{weight\\_34 - weight\\_28}{weight\\_28}$\n",
        "- **relative_weight_last_gain** $\\frac{weight\\_last - weight\\_34}{weight\\_34}$\n",
        "- **weight_20**, **weight_24**, **weight_28**, **weight_34** - weight of the person in kg at week 20, 24, 28, 34\n",
        "- **weight_last** - last measured weight during pregnancy in kg\n"
      ]
    },
    {
      "cell_type": "code",
      "metadata": {
        "id": "pjYCnP-7XaLI"
      },
      "source": [
        "# There are NAN values in this column\n",
        "# It means that it is the first child.\n",
        "# Since these are nominal attributes, we use 1-hot encoding\n",
        "df = pd.get_dummies(df, columns=['prev_gdm', 'gdm', 'gdm_jm'])"
      ],
      "execution_count": 18,
      "outputs": []
    },
    {
      "cell_type": "code",
      "metadata": {
        "id": "6sM5i37HKr_j"
      },
      "source": [
        "df.max_weight_delta=df.max_weight-df.weight_start"
      ],
      "execution_count": 19,
      "outputs": []
    },
    {
      "cell_type": "code",
      "metadata": {
        "colab": {
          "base_uri": "https://localhost:8080/"
        },
        "id": "6UzKEU2WZUtZ",
        "outputId": "194854cd-8e32-46e6-ac39-e68b6f37087c"
      },
      "source": [
        "for column in df.columns:\n",
        "  print(column + \"  \" + str(df[column].isna().sum()))"
      ],
      "execution_count": 20,
      "outputs": [
        {
          "output_type": "stream",
          "text": [
            "bmi  0\n",
            "age  0\n",
            "childbirth_n  0\n",
            "prev_macrosomia  0\n",
            "gestage_total  0\n",
            "sex  0\n",
            "child_weight  0\n",
            "macrosomia  0\n",
            "weight_start  0\n",
            "max_weight  0\n",
            "max_weight_delta  0\n",
            "gestage_days_20  117\n",
            "weight_20  0\n",
            "gestage_days_24  283\n",
            "weight_24  0\n",
            "gestage_days_28  203\n",
            "weight_28  0\n",
            "gestage_days_34  46\n",
            "weight_34  0\n",
            "gestage_days_last  1\n",
            "weight_last  0\n",
            "weight_20_gain  0\n",
            "weight_24_gain  0\n",
            "weight_28_gain  0\n",
            "weight_34_gain  0\n",
            "weight_last_gain  0\n",
            "relative_max_weight_gain  0\n",
            "relative_weight_20_gain  0\n",
            "relative_weight_24_gain  0\n",
            "relative_weight_28_gain  0\n",
            "relative_weight_34_gain  0\n",
            "relative_weight_last_gain  0\n",
            "prev_gdm_0.0  0\n",
            "prev_gdm_1.0  0\n",
            "gdm_0  0\n",
            "gdm_1  0\n",
            "gdm_jm_0  0\n",
            "gdm_jm_1  0\n",
            "gdm_jm_2  0\n",
            "gdm_jm_3  0\n"
          ],
          "name": "stdout"
        }
      ]
    },
    {
      "cell_type": "markdown",
      "metadata": {
        "id": "jyrNDMKrFFg4"
      },
      "source": [
        "# Training"
      ]
    },
    {
      "cell_type": "markdown",
      "metadata": {
        "id": "aDvr4dR25FuJ"
      },
      "source": [
        "Splitting data into training, testing and validation dataset"
      ]
    },
    {
      "cell_type": "code",
      "metadata": {
        "id": "cW0tVAyO5E32"
      },
      "source": [
        "from sklearn.model_selection import train_test_split\n",
        "\n",
        "X_train, X_test, y_train, y_test = train_test_split(df.drop(\"macrosomia\", axis=1), df[\"macrosomia\"], test_size=0.3, random_state=0)\n",
        "\n",
        "X_test, X_validation, y_test, y_validation = train_test_split(X_test, y_test, test_size=0.5, random_state=0)"
      ],
      "execution_count": 21,
      "outputs": []
    },
    {
      "cell_type": "markdown",
      "metadata": {
        "id": "VdEJvRFarGho"
      },
      "source": [
        "Training different models"
      ]
    },
    {
      "cell_type": "code",
      "metadata": {
        "id": "i-3-XI517hMF"
      },
      "source": [
        "from sklearn.linear_model import LogisticRegression\n",
        "from sklearn.neighbors import KNeighborsClassifier\n",
        "from sklearn.svm import SVC\n",
        "from sklearn.ensemble import RandomForestClassifier\n",
        "from sklearn.naive_bayes import GaussianNB\n",
        "from xgboost import XGBClassifier\n",
        "from sklearn import model_selection\n",
        "from sklearn.utils import class_weight\n",
        "from sklearn.metrics import classification_report\n",
        "from sklearn.metrics import confusion_matrix\n",
        "import numpy as np\n",
        "from sklearn.metrics import f1_score\n",
        "from sklearn.metrics import accuracy_score\n",
        "from sklearn.metrics import recall_score\n",
        "from sklearn.metrics import precision_score\n",
        "from sklearn.metrics import roc_auc_score\n",
        "import sklearn\n",
        "\n",
        "def train_models(X_train: pd.DataFrame, y_train: pd.DataFrame, x_features, cross_validate=True)-> pd.DataFrame:\n",
        "  dfs = []\n",
        "  models = [\n",
        "          ('RF', RandomForestClassifier()),\n",
        "          ('KNN', KNeighborsClassifier()),\n",
        "          ('SVM', SVC(probability=True)), \n",
        "          ('GNB', GaussianNB()),\n",
        "          ('XGB', XGBClassifier())\n",
        "        ]\n",
        "  results = []\n",
        "  names = []\n",
        "  scoring = ['f1', 'roc_auc', 'recall']\n",
        "\n",
        "  validation_results = pd.DataFrame(columns=['model', 'accuracy', 'f score', 'recall', 'precision', 'roc auc'])\n",
        "  trained_models = []\n",
        "\n",
        "  for name, model in models:\n",
        "    if cross_validate:\n",
        "      kfold = model_selection.KFold(n_splits=5, shuffle=True, random_state=42)\n",
        "      cv_results = model_selection.cross_validate(model, X_train[x_features], y_train, cv=kfold, scoring=scoring)\n",
        "\n",
        "      results.append(cv_results)\n",
        "      names.append(name)\n",
        "\n",
        "      this_df = pd.DataFrame(cv_results)\n",
        "      this_df['model'] = name\n",
        "      dfs.append(this_df)\n",
        "    \n",
        "    # Create new model for measuring how good model is on validation data\n",
        "    new_model = sklearn.base.clone(model)\n",
        "    new_model.fit(X_train[x_features], y_train)\n",
        "    y_pred = new_model.predict(X_validation[x_features])\n",
        "    model_data = {\n",
        "        'model': name,\n",
        "        'accuracy': accuracy_score(y_validation, y_pred),\n",
        "        'f score': f1_score(y_validation, y_pred),\n",
        "        'recall': recall_score(y_validation, y_pred),\n",
        "        'precision': precision_score(y_validation, y_pred),\n",
        "        'roc auc': roc_auc_score(y_validation, new_model.predict_proba(X_validation[x_features])[:, 1])\n",
        "    }\n",
        "    validation_results = validation_results.append(model_data, ignore_index=True)\n",
        "    trained_models.append((name, new_model))\n",
        "\n",
        "  if cross_validate:\n",
        "    final = pd.concat(dfs, ignore_index=True)\n",
        "    print('Results with cross validation')\n",
        "    print(final)\n",
        "\n",
        "  print('Results on validation data')\n",
        "  print(validation_results)\n",
        "\n",
        "  return trained_models\n",
        "  "
      ],
      "execution_count": 22,
      "outputs": []
    },
    {
      "cell_type": "code",
      "metadata": {
        "id": "W1tbiROb9QxY"
      },
      "source": [
        "case1_features = [\"bmi\", \"gdm_0\", \"gdm_1\", \"age\", \"childbirth_n\", \"prev_macrosomia\", \"sex\", \"weight_start\", \"max_weight_delta\"]"
      ],
      "execution_count": 23,
      "outputs": []
    },
    {
      "cell_type": "code",
      "metadata": {
        "colab": {
          "base_uri": "https://localhost:8080/"
        },
        "id": "_VaFJyfU_djO",
        "outputId": "5884958a-1a30-4e7c-99ac-3503a3cdc432"
      },
      "source": [
        "t = train_models(X_train, y_train, case1_features)\n",
        "print(t[0][1].feature_importances_)"
      ],
      "execution_count": 24,
      "outputs": [
        {
          "output_type": "stream",
          "text": [
            "/usr/local/lib/python3.6/dist-packages/sklearn/metrics/_classification.py:1272: UndefinedMetricWarning: Precision is ill-defined and being set to 0.0 due to no predicted samples. Use `zero_division` parameter to control this behavior.\n",
            "  _warn_prf(average, modifier, msg_start, len(result))\n"
          ],
          "name": "stderr"
        },
        {
          "output_type": "stream",
          "text": [
            "Results with cross validation\n",
            "    fit_time  score_time   test_f1  test_roc_auc  test_recall model\n",
            "0   0.219023    0.028229  0.206897      0.672181     0.136364    RF\n",
            "1   0.209995    0.026104  0.130435      0.640789     0.078947    RF\n",
            "2   0.218533    0.025803  0.275862      0.651424     0.170213    RF\n",
            "3   0.216156    0.026011  0.130435      0.640038     0.073171    RF\n",
            "4   0.223465    0.026320  0.105263      0.611440     0.066667    RF\n",
            "5   0.005623    0.014244  0.067797      0.502952     0.045455   KNN\n",
            "6   0.003795    0.017979  0.034483      0.435777     0.026316   KNN\n",
            "7   0.003239    0.014013  0.225806      0.578491     0.148936   KNN\n",
            "8   0.002532    0.014410  0.081633      0.540591     0.048780   KNN\n",
            "9   0.002596    0.014470  0.137931      0.513355     0.088889   KNN\n",
            "10  0.117985    0.011778  0.000000      0.585450     0.000000   SVM\n",
            "11  0.125069    0.011765  0.000000      0.564662     0.000000   SVM\n",
            "12  0.142371    0.011805  0.000000      0.604213     0.000000   SVM\n",
            "13  0.127005    0.011628  0.000000      0.681159     0.000000   SVM\n",
            "14  0.121502    0.011667  0.000000      0.619923     0.000000   SVM\n",
            "15  0.002182    0.004472  0.169014      0.650067     0.136364   GNB\n",
            "16  0.002023    0.004311  0.229508      0.605890     0.184211   GNB\n",
            "17  0.001976    0.004293  0.317073      0.634275     0.276596   GNB\n",
            "18  0.001951    0.004434  0.197531      0.627901     0.195122   GNB\n",
            "19  0.001974    0.004443  0.301370      0.679912     0.244444   GNB\n",
            "20  0.161952    0.006652  0.148148      0.684213     0.090909   XGB\n",
            "21  0.057772    0.006596  0.160000      0.651566     0.105263   XGB\n",
            "22  0.058722    0.006590  0.203390      0.680004     0.127660   XGB\n",
            "23  0.062656    0.006635  0.133333      0.692706     0.073171   XGB\n",
            "24  0.059596    0.006694  0.150943      0.648604     0.088889   XGB\n",
            "Results on validation data\n",
            "  model  accuracy   f score    recall  precision   roc auc\n",
            "0    RF  0.853383  0.093023  0.055556   0.285714  0.671558\n",
            "1   KNN  0.827068  0.080000  0.055556   0.142857  0.580374\n",
            "2   SVM  0.864662  0.000000  0.000000   0.000000  0.559300\n",
            "3   GNB  0.819549  0.314286  0.305556   0.323529  0.703623\n",
            "4   XGB  0.868421  0.186047  0.111111   0.571429  0.706884\n",
            "[0.2530278  0.01570795 0.01401769 0.15513147 0.06000502 0.02236642\n",
            " 0.03399423 0.20309001 0.24265942]\n"
          ],
          "name": "stdout"
        }
      ]
    },
    {
      "cell_type": "code",
      "metadata": {
        "colab": {
          "base_uri": "https://localhost:8080/"
        },
        "id": "STi5lr8g4omN",
        "outputId": "2c0f5d08-21ad-41f9-b1ac-79925f0a45b7"
      },
      "source": [
        "features_2 = [\"bmi\", \"gdm_0\", \"gdm_1\", \"gdm_jm_0\", \"gdm_jm_1\", \"gdm_jm_2\", \"gdm_jm_3\", \"age\", \"childbirth_n\", \"prev_macrosomia\", \"sex\", \"weight_start\", \"max_weight_delta\", \"prev_gdm_0.0\", \"prev_gdm_1.0\", \"gestage_total\"]\n",
        "trained = train_models(X_train, y_train, features_2)"
      ],
      "execution_count": 25,
      "outputs": [
        {
          "output_type": "stream",
          "text": [
            "/usr/local/lib/python3.6/dist-packages/sklearn/metrics/_classification.py:1272: UndefinedMetricWarning: Precision is ill-defined and being set to 0.0 due to no predicted samples. Use `zero_division` parameter to control this behavior.\n",
            "  _warn_prf(average, modifier, msg_start, len(result))\n"
          ],
          "name": "stderr"
        },
        {
          "output_type": "stream",
          "text": [
            "Results with cross validation\n",
            "    fit_time  score_time   test_f1  test_roc_auc  test_recall model\n",
            "0   0.214154    0.026394  0.210526      0.639260     0.136364    RF\n",
            "1   0.215333    0.027873  0.173913      0.641792     0.105263    RF\n",
            "2   0.208988    0.026327  0.081633      0.649413     0.042553    RF\n",
            "3   0.225409    0.027946  0.088889      0.631495     0.048780    RF\n",
            "4   0.215513    0.028084  0.072727      0.540996     0.044444    RF\n",
            "5   0.003140    0.016928  0.101695      0.587567     0.068182   KNN\n",
            "6   0.003246    0.016648  0.149254      0.505702     0.131579   KNN\n",
            "7   0.003101    0.016814  0.065574      0.575103     0.042553   KNN\n",
            "8   0.003217    0.016812  0.085106      0.589784     0.048780   KNN\n",
            "9   0.003279    0.016654  0.166667      0.616858     0.111111   KNN\n",
            "10  0.113002    0.013458  0.000000      0.562723     0.000000   SVM\n",
            "11  0.117789    0.013844  0.000000      0.589599     0.000000   SVM\n",
            "12  0.109134    0.013297  0.000000      0.561977     0.000000   SVM\n",
            "13  0.112986    0.013610  0.000000      0.599505     0.000000   SVM\n",
            "14  0.112158    0.013607  0.000000      0.662178     0.000000   SVM\n",
            "15  0.002346    0.004486  0.200000      0.674688     0.159091   GNB\n",
            "16  0.002086    0.005104  0.246575      0.636591     0.236842   GNB\n",
            "17  0.002140    0.004675  0.348837      0.678416     0.319149   GNB\n",
            "18  0.002122    0.004507  0.219512      0.663544     0.219512   GNB\n",
            "19  0.002100    0.004471  0.333333      0.674001     0.311111   GNB\n",
            "20  0.072862    0.007006  0.153846      0.699309     0.090909   XGB\n",
            "21  0.075622    0.006830  0.160000      0.674812     0.105263   XGB\n",
            "22  0.073266    0.006831  0.206897      0.707156     0.127660   XGB\n",
            "23  0.077278    0.006933  0.044444      0.704136     0.024390   XGB\n",
            "24  0.073682    0.007423  0.080000      0.635906     0.044444   XGB\n",
            "Results on validation data\n",
            "  model  accuracy   f score    recall  precision   roc auc\n",
            "0    RF  0.864662  0.142857  0.083333   0.500000  0.706824\n",
            "1   KNN  0.834586  0.153846  0.111111   0.250000  0.602476\n",
            "2   SVM  0.864662  0.000000  0.000000   0.000000  0.668357\n",
            "3   GNB  0.812030  0.305556  0.305556   0.305556  0.703382\n",
            "4   XGB  0.864662  0.142857  0.083333   0.500000  0.709058\n"
          ],
          "name": "stdout"
        }
      ]
    },
    {
      "cell_type": "code",
      "metadata": {
        "id": "I5LTG69O8RiP"
      },
      "source": [
        "def undersample_data(X_train, y_train, factor):\n",
        "  np.random.seed(0)\n",
        "\n",
        "  negative_indices_train = y_train[y_train == 0].index\n",
        "  positive_count_train = len(y_train[y_train == 1])\n",
        "  negative_undersampling_indices_train = np.random.choice(negative_indices_train, min(int(positive_count_train * factor), len(negative_indices_train)), replace=False)\n",
        "  positive_undersampling_indices_train = y_train[y_train == 1].index.to_numpy()\n",
        "  undersampling_indices_train = np.concatenate([negative_undersampling_indices_train, positive_undersampling_indices_train])\n",
        "\n",
        "  np.random.shuffle(undersampling_indices_train)\n",
        "\n",
        "  X_train_undersampling = X_train.loc[undersampling_indices_train]\n",
        "  y_train_undersampling = y_train.loc[undersampling_indices_train]\n",
        "\n",
        "  return (X_train_undersampling, y_train_undersampling)"
      ],
      "execution_count": 26,
      "outputs": []
    },
    {
      "cell_type": "code",
      "metadata": {
        "colab": {
          "base_uri": "https://localhost:8080/"
        },
        "id": "_aA9f-hMWcEs",
        "outputId": "cdce7f07-c55b-426f-eea0-b6911e0c3c80"
      },
      "source": [
        "# Undersampling using case1features\n",
        "for f in [0.9, 1, 1.2, 1.5, 2, 3]:\n",
        "  print(f'Results when there can be at most {f} times more negative cases in the data than positive ones:')\n",
        "\n",
        "  X_train_undersampling, y_train_undersampling = undersample_data(X_train, y_train, f)\n",
        "\n",
        "  train_models(X_train_undersampling, y_train_undersampling, case1_features, cross_validate=False)"
      ],
      "execution_count": 27,
      "outputs": [
        {
          "output_type": "stream",
          "text": [
            "Results when there can be at most 0.9 times more negative cases in the data than positive ones:\n",
            "Results on validation data\n",
            "  model  accuracy   f score    recall  precision   roc auc\n",
            "0    RF  0.590226  0.314465  0.694444   0.203252  0.672041\n",
            "1   KNN  0.533835  0.261905  0.611111   0.166667  0.617452\n",
            "2   SVM  0.575188  0.280255  0.611111   0.181818  0.684662\n",
            "3   GNB  0.800752  0.329114  0.361111   0.302326  0.697222\n",
            "4   XGB  0.605263  0.331210  0.722222   0.214876  0.722162\n",
            "Results when there can be at most 1 times more negative cases in the data than positive ones:\n",
            "Results on validation data\n",
            "  model  accuracy   f score    recall  precision   roc auc\n",
            "0    RF  0.620301  0.312925  0.638889   0.207207  0.671739\n",
            "1   KNN  0.560150  0.264151  0.583333   0.170732  0.591908\n",
            "2   SVM  0.691729  0.305085  0.500000   0.219512  0.683696\n",
            "3   GNB  0.808271  0.337662  0.361111   0.317073  0.696981\n",
            "4   XGB  0.635338  0.331034  0.666667   0.220183  0.695048\n",
            "Results when there can be at most 1.2 times more negative cases in the data than positive ones:\n",
            "Results on validation data\n",
            "  model  accuracy   f score    recall  precision   roc auc\n",
            "0    RF  0.627820  0.287770  0.555556   0.194175  0.657065\n",
            "1   KNN  0.590226  0.258503  0.527778   0.171171  0.589855\n",
            "2   SVM  0.804511  0.333333  0.361111   0.309524  0.685386\n",
            "3   GNB  0.804511  0.297297  0.305556   0.289474  0.700725\n",
            "4   XGB  0.669173  0.301587  0.527778   0.211111  0.706582\n",
            "Results when there can be at most 1.5 times more negative cases in the data than positive ones:\n",
            "Results on validation data\n",
            "  model  accuracy   f score    recall  precision   roc auc\n",
            "0    RF  0.706767  0.327586  0.527778   0.237500  0.688768\n",
            "1   KNN  0.672932  0.280992  0.472222   0.200000  0.599215\n",
            "2   SVM  0.860902  0.212766  0.138889   0.454545  0.686111\n",
            "3   GNB  0.804511  0.297297  0.305556   0.289474  0.703140\n",
            "4   XGB  0.740602  0.303030  0.416667   0.238095  0.697041\n",
            "Results when there can be at most 2 times more negative cases in the data than positive ones:\n"
          ],
          "name": "stdout"
        },
        {
          "output_type": "stream",
          "text": [
            "/usr/local/lib/python3.6/dist-packages/sklearn/metrics/_classification.py:1272: UndefinedMetricWarning: Precision is ill-defined and being set to 0.0 due to no predicted samples. Use `zero_division` parameter to control this behavior.\n",
            "  _warn_prf(average, modifier, msg_start, len(result))\n"
          ],
          "name": "stderr"
        },
        {
          "output_type": "stream",
          "text": [
            "Results on validation data\n",
            "  model  accuracy   f score    recall  precision   roc auc\n",
            "0    RF  0.774436  0.302326  0.361111   0.260000  0.700906\n",
            "1   KNN  0.725564  0.262626  0.361111   0.206349  0.619203\n",
            "2   SVM  0.864662  0.000000  0.000000   0.000000  0.665942\n",
            "3   GNB  0.812030  0.305556  0.305556   0.305556  0.700000\n",
            "4   XGB  0.823308  0.389610  0.416667   0.365854  0.726932\n",
            "Results when there can be at most 3 times more negative cases in the data than positive ones:\n",
            "Results on validation data\n",
            "  model  accuracy   f score    recall  precision   roc auc\n",
            "0    RF  0.834586  0.185185  0.138889   0.277778  0.682367\n",
            "1   KNN  0.763158  0.202532  0.222222   0.186047  0.570773\n",
            "2   SVM  0.864662  0.000000  0.000000   0.000000  0.653502\n",
            "3   GNB  0.812030  0.305556  0.305556   0.305556  0.703382\n",
            "4   XGB  0.853383  0.204082  0.138889   0.384615  0.713285\n"
          ],
          "name": "stdout"
        },
        {
          "output_type": "stream",
          "text": [
            "/usr/local/lib/python3.6/dist-packages/sklearn/metrics/_classification.py:1272: UndefinedMetricWarning: Precision is ill-defined and being set to 0.0 due to no predicted samples. Use `zero_division` parameter to control this behavior.\n",
            "  _warn_prf(average, modifier, msg_start, len(result))\n"
          ],
          "name": "stderr"
        }
      ]
    },
    {
      "cell_type": "code",
      "metadata": {
        "colab": {
          "base_uri": "https://localhost:8080/"
        },
        "id": "SX_aKd4VXN6q",
        "outputId": "cdb84143-2069-4880-ca02-847a2cc5a5cf"
      },
      "source": [
        "trained = []\n",
        "# Undersampling using features_2\n",
        "for f in [0.9, 1, 1.2, 1.5, 2, 3]:\n",
        "  print(f'Results when there can be at most {f} times more negative cases in the data than positive ones:')\n",
        "\n",
        "  X_train_undersampling, y_train_undersampling = undersample_data(X_train, y_train, f)\n",
        "\n",
        "  trained.append(train_models(X_train_undersampling, y_train_undersampling, features_2, cross_validate=False))"
      ],
      "execution_count": 28,
      "outputs": [
        {
          "output_type": "stream",
          "text": [
            "Results when there can be at most 0.9 times more negative cases in the data than positive ones:\n",
            "Results on validation data\n",
            "  model  accuracy   f score    recall  precision   roc auc\n",
            "0    RF  0.609023  0.350000  0.777778   0.225806  0.693418\n",
            "1   KNN  0.522556  0.265896  0.638889   0.167883  0.620290\n",
            "2   SVM  0.139098  0.239203  1.000000   0.135849  0.335205\n",
            "3   GNB  0.800752  0.329114  0.361111   0.302326  0.708816\n",
            "4   XGB  0.601504  0.320513  0.694444   0.208333  0.698671\n",
            "Results when there can be at most 1 times more negative cases in the data than positive ones:\n",
            "Results on validation data\n",
            "  model  accuracy   f score    recall  precision   roc auc\n",
            "0    RF  0.680451  0.370370  0.694444   0.252525  0.700906\n",
            "1   KNN  0.563910  0.283951  0.638889   0.182540  0.626812\n",
            "2   SVM  0.793233  0.303797  0.333333   0.279070  0.458575\n",
            "3   GNB  0.808271  0.337662  0.361111   0.317073  0.707005\n",
            "4   XGB  0.627820  0.335570  0.694444   0.221239  0.684300\n",
            "Results when there can be at most 1.2 times more negative cases in the data than positive ones:\n"
          ],
          "name": "stdout"
        },
        {
          "output_type": "stream",
          "text": [
            "/usr/local/lib/python3.6/dist-packages/sklearn/metrics/_classification.py:1272: UndefinedMetricWarning: Precision is ill-defined and being set to 0.0 due to no predicted samples. Use `zero_division` parameter to control this behavior.\n",
            "  _warn_prf(average, modifier, msg_start, len(result))\n"
          ],
          "name": "stderr"
        },
        {
          "output_type": "stream",
          "text": [
            "Results on validation data\n",
            "  model  accuracy   f score    recall  precision   roc auc\n",
            "0    RF  0.680451  0.341085  0.611111   0.236559  0.711775\n",
            "1   KNN  0.609023  0.297297  0.611111   0.196429  0.625181\n",
            "2   SVM  0.864662  0.000000  0.000000   0.000000  0.684541\n",
            "3   GNB  0.812030  0.342105  0.361111   0.325000  0.707850\n",
            "4   XGB  0.657895  0.325926  0.611111   0.222222  0.699034\n",
            "Results when there can be at most 1.5 times more negative cases in the data than positive ones:\n"
          ],
          "name": "stdout"
        },
        {
          "output_type": "stream",
          "text": [
            "/usr/local/lib/python3.6/dist-packages/sklearn/metrics/_classification.py:1272: UndefinedMetricWarning: Precision is ill-defined and being set to 0.0 due to no predicted samples. Use `zero_division` parameter to control this behavior.\n",
            "  _warn_prf(average, modifier, msg_start, len(result))\n"
          ],
          "name": "stderr"
        },
        {
          "output_type": "stream",
          "text": [
            "Results on validation data\n",
            "  model  accuracy   f score    recall  precision   roc auc\n",
            "0    RF  0.733083  0.348624  0.527778   0.260274  0.700060\n",
            "1   KNN  0.703008  0.324786  0.527778   0.234568  0.628563\n",
            "2   SVM  0.864662  0.000000  0.000000   0.000000  0.686473\n",
            "3   GNB  0.808271  0.337662  0.361111   0.317073  0.712319\n",
            "4   XGB  0.718045  0.299065  0.444444   0.225352  0.677899\n",
            "Results when there can be at most 2 times more negative cases in the data than positive ones:\n"
          ],
          "name": "stdout"
        },
        {
          "output_type": "stream",
          "text": [
            "/usr/local/lib/python3.6/dist-packages/sklearn/metrics/_classification.py:1272: UndefinedMetricWarning: Precision is ill-defined and being set to 0.0 due to no predicted samples. Use `zero_division` parameter to control this behavior.\n",
            "  _warn_prf(average, modifier, msg_start, len(result))\n"
          ],
          "name": "stderr"
        },
        {
          "output_type": "stream",
          "text": [
            "Results on validation data\n",
            "  model  accuracy   f score    recall  precision   roc auc\n",
            "0    RF  0.804511  0.350000  0.388889   0.318182  0.719263\n",
            "1   KNN  0.744361  0.276596  0.361111   0.224138  0.603442\n",
            "2   SVM  0.864662  0.000000  0.000000   0.000000  0.733333\n",
            "3   GNB  0.812030  0.342105  0.361111   0.325000  0.702295\n",
            "4   XGB  0.770677  0.282353  0.333333   0.244898  0.686111\n",
            "Results when there can be at most 3 times more negative cases in the data than positive ones:\n",
            "Results on validation data\n",
            "  model  accuracy   f score    recall  precision   roc auc\n",
            "0    RF  0.830827  0.150943  0.111111   0.235294  0.675604\n",
            "1   KNN  0.804511  0.235294  0.222222   0.250000  0.619384\n",
            "2   SVM  0.864662  0.000000  0.000000   0.000000  0.596014\n",
            "3   GNB  0.804511  0.297297  0.305556   0.289474  0.706159\n",
            "4   XGB  0.857143  0.296296  0.222222   0.444444  0.711232\n"
          ],
          "name": "stdout"
        },
        {
          "output_type": "stream",
          "text": [
            "/usr/local/lib/python3.6/dist-packages/sklearn/metrics/_classification.py:1272: UndefinedMetricWarning: Precision is ill-defined and being set to 0.0 due to no predicted samples. Use `zero_division` parameter to control this behavior.\n",
            "  _warn_prf(average, modifier, msg_start, len(result))\n"
          ],
          "name": "stderr"
        }
      ]
    },
    {
      "cell_type": "code",
      "metadata": {
        "colab": {
          "base_uri": "https://localhost:8080/"
        },
        "id": "02rY5bL0qYK6",
        "outputId": "d403ec47-b53f-4dcc-ccdc-77ce1c46adfa"
      },
      "source": [
        "# RF from previous block achieved the largest F score (0.37), test it on test data\n",
        "\n",
        "rf = trained[1][0][1]\n",
        "importances = sorted(rf.feature_importances_, reverse=True)\n",
        "print(importances)\n",
        "\n",
        "# Print the importances so that they can be put on the poster\n",
        "for i in range(len(importances)):\n",
        "  print(f'\"{features_2[i]}\",{importances[i]}')\n",
        "\n",
        "pred = rf.predict(X_test[features_2])\n",
        "print(f'F1 score on test data: {f1_score(y_test, pred)}')\n",
        "print(f'Recall on test data: {recall_score(y_test, pred)}')\n",
        "print(f'Precision on test data: {precision_score(y_test, pred)}')"
      ],
      "execution_count": 29,
      "outputs": [
        {
          "output_type": "stream",
          "text": [
            "[0.17781773491749706, 0.16899980815231927, 0.15921177252757063, 0.14851821930316098, 0.1365289470146962, 0.05354673504798139, 0.029824698144492585, 0.028623366357621072, 0.021541356858882622, 0.018258747147994917, 0.013386488007177516, 0.011401516897116024, 0.010552319952085262, 0.009378744185020382, 0.007316505368568282, 0.005093040117815902]\n",
            "\"bmi\",0.17781773491749706\n",
            "\"gdm_0\",0.16899980815231927\n",
            "\"gdm_1\",0.15921177252757063\n",
            "\"gdm_jm_0\",0.14851821930316098\n",
            "\"gdm_jm_1\",0.1365289470146962\n",
            "\"gdm_jm_2\",0.05354673504798139\n",
            "\"gdm_jm_3\",0.029824698144492585\n",
            "\"age\",0.028623366357621072\n",
            "\"childbirth_n\",0.021541356858882622\n",
            "\"prev_macrosomia\",0.018258747147994917\n",
            "\"sex\",0.013386488007177516\n",
            "\"weight_start\",0.011401516897116024\n",
            "\"max_weight_delta\",0.010552319952085262\n",
            "\"prev_gdm_0.0\",0.009378744185020382\n",
            "\"prev_gdm_1.0\",0.007316505368568282\n",
            "\"gestage_total\",0.005093040117815902\n",
            "F1 score on test data: 0.3421052631578947\n",
            "Recall on test data: 0.7647058823529411\n",
            "Precision on test data: 0.22033898305084745\n"
          ],
          "name": "stdout"
        }
      ]
    },
    {
      "cell_type": "code",
      "metadata": {
        "colab": {
          "base_uri": "https://localhost:8080/"
        },
        "id": "iooEYXaYrfHU",
        "outputId": "8465aec3-ed3e-483c-f08c-f588285a2ca4"
      },
      "source": [
        "# Models using data about weight gain\n",
        "gain_features = [\n",
        "                 \"bmi\",\n",
        "                 \"gdm_0\",\n",
        "                 \"gdm_1\",\n",
        "                 \"gdm_jm_0\",\n",
        "                 \"gdm_jm_1\",\n",
        "                 \"gdm_jm_2\",\n",
        "                 \"gdm_jm_3\",\n",
        "                 \"age\",\n",
        "                 \"childbirth_n\",\n",
        "                 \"prev_macrosomia\",\n",
        "                 \"sex\",\n",
        "                 \"weight_start\",\n",
        "                 \"max_weight_delta\",\n",
        "                 \"prev_gdm_0.0\",\n",
        "                 \"prev_gdm_1.0\",\n",
        "                 \"gestage_total\",\n",
        "                 \"relative_max_weight_gain\",\n",
        "                 \"relative_weight_20_gain\",\n",
        "                 \"relative_weight_24_gain\",\n",
        "                 \"relative_weight_28_gain\",\n",
        "                 \"relative_weight_34_gain\",\n",
        "                 \"relative_weight_last_gain\",\n",
        "                 \"weight_20_gain\",\n",
        "                 \"weight_24_gain\",\n",
        "                 \"weight_28_gain\",\n",
        "                 \"weight_34_gain\",\n",
        "                 \"weight_last_gain\"\n",
        "]\n",
        "\n",
        "X_train_undersampling, y_train_undersampling = undersample_data(X_train, y_train, 1)\n",
        "\n",
        "trained = train_models(X_train_undersampling, y_train_undersampling, gain_features, cross_validate=False)"
      ],
      "execution_count": 30,
      "outputs": [
        {
          "output_type": "stream",
          "text": [
            "Results on validation data\n",
            "  model  accuracy   f score    recall  precision   roc auc\n",
            "0    RF  0.631579  0.309859  0.611111   0.207547  0.637862\n",
            "1   KNN  0.563910  0.301205  0.694444   0.192308  0.637319\n",
            "2   SVM  0.815789  0.309859  0.305556   0.314286  0.402295\n",
            "3   GNB  0.804511  0.297297  0.305556   0.289474  0.688164\n",
            "4   XGB  0.556391  0.262500  0.583333   0.169355  0.645894\n"
          ],
          "name": "stdout"
        }
      ]
    },
    {
      "cell_type": "code",
      "metadata": {
        "colab": {
          "base_uri": "https://localhost:8080/"
        },
        "id": "llYsrzUWmvyn",
        "outputId": "f9b9cddc-9f21-48d8-bbc0-2f2662b483bb"
      },
      "source": [
        "# Now try training with original data that is not undersampled\n",
        "trained = train_models(X_train, y_train, gain_features)\n",
        "trained[0][1].feature_importances_"
      ],
      "execution_count": 31,
      "outputs": [
        {
          "output_type": "stream",
          "text": [
            "/usr/local/lib/python3.6/dist-packages/sklearn/metrics/_classification.py:1272: UndefinedMetricWarning: Precision is ill-defined and being set to 0.0 due to no predicted samples. Use `zero_division` parameter to control this behavior.\n",
            "  _warn_prf(average, modifier, msg_start, len(result))\n"
          ],
          "name": "stderr"
        },
        {
          "output_type": "stream",
          "text": [
            "Results with cross validation\n",
            "    fit_time  score_time   test_f1  test_roc_auc  test_recall model\n",
            "0   0.310238    0.027215  0.083333      0.658812     0.045455    RF\n",
            "1   0.293635    0.037468  0.048780      0.655326     0.026316    RF\n",
            "2   0.301190    0.025568  0.117647      0.660633     0.063830    RF\n",
            "3   0.316788    0.026061  0.000000      0.619064     0.000000    RF\n",
            "4   0.287761    0.025863  0.041667      0.611056     0.022222    RF\n",
            "5   0.003991    0.025865  0.129032      0.595755     0.090909   KNN\n",
            "6   0.003993    0.026232  0.181818      0.523935     0.157895   KNN\n",
            "7   0.004020    0.025171  0.187500      0.585001     0.127660   KNN\n",
            "8   0.003983    0.025636  0.076923      0.628314     0.048780   KNN\n",
            "9   0.004169    0.021842  0.133333      0.594527     0.088889   KNN\n",
            "10  0.158272    0.016121  0.000000      0.701537     0.000000   SVM\n",
            "11  0.158568    0.016523  0.000000      0.602256     0.000000   SVM\n",
            "12  0.152748    0.016218  0.000000      0.644120     0.000000   SVM\n",
            "13  0.159924    0.017058  0.000000      0.606810     0.000000   SVM\n",
            "14  0.147509    0.016940  0.000000      0.718993     0.000000   SVM\n",
            "15  0.002519    0.004636  0.190476      0.671123     0.136364   GNB\n",
            "16  0.002387    0.004522  0.229508      0.648872     0.184211   GNB\n",
            "17  0.002206    0.004452  0.358974      0.689214     0.297872   GNB\n",
            "18  0.002360    0.004472  0.240000      0.637917     0.219512   GNB\n",
            "19  0.002194    0.004440  0.258824      0.648221     0.244444   GNB\n",
            "20  0.127395    0.007960  0.115385      0.737968     0.068182   XGB\n",
            "21  0.129859    0.007229  0.120000      0.626692     0.078947   XGB\n",
            "22  0.128107    0.007288  0.175439      0.679475     0.106383   XGB\n",
            "23  0.125861    0.007347  0.086957      0.654766     0.048780   XGB\n",
            "24  0.128371    0.007178  0.080000      0.641927     0.044444   XGB\n",
            "Results on validation data\n",
            "  model  accuracy   f score    recall  precision   roc auc\n",
            "0    RF  0.864662  0.052632  0.027778   0.500000  0.685990\n",
            "1   KNN  0.842105  0.192308  0.138889   0.312500  0.627536\n",
            "2   SVM  0.864662  0.000000  0.000000   0.000000  0.647343\n",
            "3   GNB  0.857143  0.366667  0.305556   0.458333  0.683816\n",
            "4   XGB  0.860902  0.097561  0.055556   0.400000  0.694082\n"
          ],
          "name": "stdout"
        },
        {
          "output_type": "execute_result",
          "data": {
            "text/plain": [
              "array([0.06533744, 0.00513617, 0.00554262, 0.0103931 , 0.00523273,\n",
              "       0.00875026, 0.0031667 , 0.04854987, 0.02065228, 0.017011  ,\n",
              "       0.01027938, 0.06290713, 0.06344296, 0.00934459, 0.00412169,\n",
              "       0.05224337, 0.05562284, 0.05463734, 0.05745922, 0.05785822,\n",
              "       0.05477038, 0.05988244, 0.05538874, 0.05325979, 0.05280826,\n",
              "       0.05549512, 0.05070635])"
            ]
          },
          "metadata": {
            "tags": []
          },
          "execution_count": 31
        }
      ]
    }
  ]
}